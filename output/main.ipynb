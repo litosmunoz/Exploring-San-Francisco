{
 "cells": [
  {
   "cell_type": "code",
   "execution_count": 136,
   "metadata": {},
   "outputs": [],
   "source": [
    "import os\n",
    "import requests\n",
    "import json\n",
    "from dotenv import load_dotenv\n",
    "import pandas as pd\n",
    "from pandas import json_normalize\n",
    "from pymongo import MongoClient\n",
    "import geopandas as gpd\n",
    "import numpy as np\n",
    "import folium\n",
    "from folium import Choropleth, Circle, Marker, Icon, Map\n",
    "from folium.plugins import HeatMap, MarkerCluster\n",
    "from cartoframes.viz import Map as Map2, Layer, popup_element"
   ]
  },
  {
   "cell_type": "code",
   "execution_count": 137,
   "metadata": {},
   "outputs": [],
   "source": [
    "import sys\n",
    "\n",
    "sys.path.append('../src')\n",
    "\n",
    "from geo_functions import *"
   ]
  },
  {
   "cell_type": "markdown",
   "metadata": {},
   "source": [
    "## Filtering to choose City"
   ]
  },
  {
   "cell_type": "code",
   "execution_count": 138,
   "metadata": {},
   "outputs": [],
   "source": [
    "client = MongoClient(\"localhost:27017\")\n",
    "db = client['Ironhack']\n",
    "c = db.get_collection('Companies')"
   ]
  },
  {
   "cell_type": "markdown",
   "metadata": {},
   "source": [
    "### Filter for companies that have raised more than 1 Million (USD or EUR)"
   ]
  },
  {
   "cell_type": "code",
   "execution_count": 139,
   "metadata": {},
   "outputs": [],
   "source": [
    "filter_ = {\"$and\":\n",
    "             [{'offices': {'$exists': 1}},\n",
    "             {'total_money_raised' : {'$regex' : '[$€].*[MB]'}}]}\n",
    "projection = {'name':1, '_id':0, 'total_money_raised':1, 'offices.country_code': 1, \"offices.state_code\":1,'offices.city':1,'offices.latitude':1,'offices.longitude':1}\n",
    "list_ = list(c.find(filter_, projection).sort('offices.country_code'))[20:]"
   ]
  },
  {
   "cell_type": "code",
   "execution_count": 140,
   "metadata": {},
   "outputs": [
    {
     "data": {
      "text/html": [
       "<div>\n",
       "<style scoped>\n",
       "    .dataframe tbody tr th:only-of-type {\n",
       "        vertical-align: middle;\n",
       "    }\n",
       "\n",
       "    .dataframe tbody tr th {\n",
       "        vertical-align: top;\n",
       "    }\n",
       "\n",
       "    .dataframe thead th {\n",
       "        text-align: right;\n",
       "    }\n",
       "</style>\n",
       "<table border=\"1\" class=\"dataframe\">\n",
       "  <thead>\n",
       "    <tr style=\"text-align: right;\">\n",
       "      <th></th>\n",
       "      <th>name</th>\n",
       "      <th>total_money_raised</th>\n",
       "      <th>city</th>\n",
       "      <th>state_code</th>\n",
       "      <th>country_code</th>\n",
       "      <th>latitude</th>\n",
       "      <th>longitude</th>\n",
       "    </tr>\n",
       "  </thead>\n",
       "  <tbody>\n",
       "    <tr>\n",
       "      <th>146</th>\n",
       "      <td>Rally Software</td>\n",
       "      <td>$68.9M</td>\n",
       "      <td>Boulder</td>\n",
       "      <td>CO</td>\n",
       "      <td>USA</td>\n",
       "      <td>40.010295</td>\n",
       "      <td>-105.242005</td>\n",
       "    </tr>\n",
       "    <tr>\n",
       "      <th>150</th>\n",
       "      <td>Rally Software</td>\n",
       "      <td>$68.9M</td>\n",
       "      <td>Amsterdam</td>\n",
       "      <td>None</td>\n",
       "      <td>ANT</td>\n",
       "      <td>52.338098</td>\n",
       "      <td>4.868810</td>\n",
       "    </tr>\n",
       "    <tr>\n",
       "      <th>151</th>\n",
       "      <td>Rally Software</td>\n",
       "      <td>$68.9M</td>\n",
       "      <td>Buckinghamshire</td>\n",
       "      <td>None</td>\n",
       "      <td>GBR</td>\n",
       "      <td>51.666619</td>\n",
       "      <td>-0.614003</td>\n",
       "    </tr>\n",
       "    <tr>\n",
       "      <th>155</th>\n",
       "      <td>GET Holding NV</td>\n",
       "      <td>€4.25M</td>\n",
       "      <td>Zaandijk</td>\n",
       "      <td>None</td>\n",
       "      <td>NLD</td>\n",
       "      <td>52.475393</td>\n",
       "      <td>4.812833</td>\n",
       "    </tr>\n",
       "    <tr>\n",
       "      <th>159</th>\n",
       "      <td>Google</td>\n",
       "      <td>$555M</td>\n",
       "      <td>Mountain View</td>\n",
       "      <td>CA</td>\n",
       "      <td>USA</td>\n",
       "      <td>37.421972</td>\n",
       "      <td>-122.084143</td>\n",
       "    </tr>\n",
       "  </tbody>\n",
       "</table>\n",
       "</div>"
      ],
      "text/plain": [
       "               name total_money_raised             city state_code  \\\n",
       "146  Rally Software             $68.9M          Boulder         CO   \n",
       "150  Rally Software             $68.9M        Amsterdam       None   \n",
       "151  Rally Software             $68.9M  Buckinghamshire       None   \n",
       "155  GET Holding NV             €4.25M         Zaandijk       None   \n",
       "159          Google              $555M    Mountain View         CA   \n",
       "\n",
       "    country_code   latitude   longitude  \n",
       "146          USA  40.010295 -105.242005  \n",
       "150          ANT  52.338098    4.868810  \n",
       "151          GBR  51.666619   -0.614003  \n",
       "155          NLD  52.475393    4.812833  \n",
       "159          USA  37.421972 -122.084143  "
      ]
     },
     "execution_count": 140,
     "metadata": {},
     "output_type": "execute_result"
    }
   ],
   "source": [
    "df = pd.DataFrame(list_).explode(\"offices\").reset_index(drop=True)\n",
    "df = pd.concat([df, df[\"offices\"].apply(pd.Series)], axis=1).reset_index(drop=True)\n",
    "df.dropna(subset=[\"latitude\"],inplace=True)\n",
    "df.dropna(subset=[\"city\"],inplace=True)\n",
    "df.drop(columns= 'offices', inplace=True)\n",
    "df.drop(columns= 0, inplace=True)\n",
    "df[:5]\n"
   ]
  },
  {
   "cell_type": "code",
   "execution_count": 141,
   "metadata": {},
   "outputs": [
    {
     "data": {
      "text/plain": [
       "San Francisco    318\n",
       "New York         221\n",
       "Mountain View     90\n",
       "Seattle           88\n",
       "Palo Alto         84\n",
       "Name: city, dtype: int64"
      ]
     },
     "execution_count": 141,
     "metadata": {},
     "output_type": "execute_result"
    }
   ],
   "source": [
    "df['city'].value_counts()[:5]"
   ]
  },
  {
   "cell_type": "code",
   "execution_count": 142,
   "metadata": {},
   "outputs": [],
   "source": [
    "df_SF = df[df['city'] == 'San Francisco']"
   ]
  },
  {
   "cell_type": "markdown",
   "metadata": {},
   "source": [
    "### Filter for companies that focus on video games"
   ]
  },
  {
   "cell_type": "code",
   "execution_count": 143,
   "metadata": {},
   "outputs": [],
   "source": [
    "filter_2 = {\"$and\": \n",
    "             [{\"category_code\":\"games_video\"},\n",
    "             {'offices': {'$exists': 1}}]}\n",
    "projection_2 = {'name':1, '_id':0, 'category_code':1, 'offices.country_code': 1, \"offices.state_code\":1,'offices.city':1, 'offices.latitude':1,'offices.longitude':1}\n",
    "list_2 = list(c.find(filter_2, projection_2).sort('offices.country_code'))[20:]"
   ]
  },
  {
   "cell_type": "code",
   "execution_count": 144,
   "metadata": {},
   "outputs": [
    {
     "data": {
      "text/html": [
       "<div>\n",
       "<style scoped>\n",
       "    .dataframe tbody tr th:only-of-type {\n",
       "        vertical-align: middle;\n",
       "    }\n",
       "\n",
       "    .dataframe tbody tr th {\n",
       "        vertical-align: top;\n",
       "    }\n",
       "\n",
       "    .dataframe thead th {\n",
       "        text-align: right;\n",
       "    }\n",
       "</style>\n",
       "<table border=\"1\" class=\"dataframe\">\n",
       "  <thead>\n",
       "    <tr style=\"text-align: right;\">\n",
       "      <th></th>\n",
       "      <th>name</th>\n",
       "      <th>category_code</th>\n",
       "      <th>city</th>\n",
       "      <th>state_code</th>\n",
       "      <th>country_code</th>\n",
       "      <th>latitude</th>\n",
       "      <th>longitude</th>\n",
       "    </tr>\n",
       "  </thead>\n",
       "  <tbody>\n",
       "    <tr>\n",
       "      <th>226</th>\n",
       "      <td>Tweegee</td>\n",
       "      <td>games_video</td>\n",
       "      <td>Ramat Gan</td>\n",
       "      <td>None</td>\n",
       "      <td>ISR</td>\n",
       "      <td>32.037363</td>\n",
       "      <td>34.800370</td>\n",
       "    </tr>\n",
       "    <tr>\n",
       "      <th>230</th>\n",
       "      <td>Tweegee</td>\n",
       "      <td>games_video</td>\n",
       "      <td>Ramat Gan</td>\n",
       "      <td>None</td>\n",
       "      <td>ISR</td>\n",
       "      <td>32.037363</td>\n",
       "      <td>34.800370</td>\n",
       "    </tr>\n",
       "    <tr>\n",
       "      <th>234</th>\n",
       "      <td>CreationFlow</td>\n",
       "      <td>games_video</td>\n",
       "      <td>Ciudad de Buenos Aires</td>\n",
       "      <td>None</td>\n",
       "      <td>ARG</td>\n",
       "      <td>-34.602858</td>\n",
       "      <td>-58.433954</td>\n",
       "    </tr>\n",
       "    <tr>\n",
       "      <th>239</th>\n",
       "      <td>2threads</td>\n",
       "      <td>games_video</td>\n",
       "      <td>sydney</td>\n",
       "      <td>None</td>\n",
       "      <td>AUS</td>\n",
       "      <td>-33.884685</td>\n",
       "      <td>151.216427</td>\n",
       "    </tr>\n",
       "    <tr>\n",
       "      <th>240</th>\n",
       "      <td>Sporting Connections</td>\n",
       "      <td>games_video</td>\n",
       "      <td>Maroochydore</td>\n",
       "      <td>None</td>\n",
       "      <td>AUS</td>\n",
       "      <td>-26.665908</td>\n",
       "      <td>153.088303</td>\n",
       "    </tr>\n",
       "  </tbody>\n",
       "</table>\n",
       "</div>"
      ],
      "text/plain": [
       "                     name category_code                    city state_code  \\\n",
       "226               Tweegee   games_video               Ramat Gan       None   \n",
       "230               Tweegee   games_video               Ramat Gan       None   \n",
       "234          CreationFlow   games_video  Ciudad de Buenos Aires       None   \n",
       "239              2threads   games_video                  sydney       None   \n",
       "240  Sporting Connections   games_video            Maroochydore       None   \n",
       "\n",
       "    country_code   latitude   longitude  \n",
       "226          ISR  32.037363   34.800370  \n",
       "230          ISR  32.037363   34.800370  \n",
       "234          ARG -34.602858  -58.433954  \n",
       "239          AUS -33.884685  151.216427  \n",
       "240          AUS -26.665908  153.088303  "
      ]
     },
     "execution_count": 144,
     "metadata": {},
     "output_type": "execute_result"
    }
   ],
   "source": [
    "df_2 = pd.DataFrame(list_2).explode(\"offices\").reset_index(drop=True)\n",
    "df_2 = pd.concat([df_2, df_2[\"offices\"].apply(pd.Series)], axis=1).reset_index(drop=True)\n",
    "df_2.drop(columns= 'offices', inplace=True)\n",
    "df_2.dropna(subset=[\"city\"],inplace=True)\n",
    "df_2.dropna(subset=[\"latitude\"],inplace=True)\n",
    "df_2.drop(columns= 0, inplace=True)\n",
    "df_2 = df_2[df_2['city']!='']\n",
    "df_2[:5]"
   ]
  },
  {
   "cell_type": "code",
   "execution_count": 145,
   "metadata": {},
   "outputs": [
    {
     "data": {
      "text/plain": [
       "New York         51\n",
       "San Francisco    49\n",
       "Los Angeles      25\n",
       "London           20\n",
       "Palo Alto        16\n",
       "Name: city, dtype: int64"
      ]
     },
     "execution_count": 145,
     "metadata": {},
     "output_type": "execute_result"
    }
   ],
   "source": [
    "df_2['city'].value_counts()[:5]"
   ]
  },
  {
   "cell_type": "code",
   "execution_count": 146,
   "metadata": {},
   "outputs": [],
   "source": [
    "df_2_SF = df_2[df_2['city'] == 'San Francisco']"
   ]
  },
  {
   "cell_type": "markdown",
   "metadata": {},
   "source": [
    "### Filter for companies that focus on design"
   ]
  },
  {
   "cell_type": "code",
   "execution_count": 147,
   "metadata": {},
   "outputs": [],
   "source": [
    "filter_3 = {\"$and\": \n",
    "             [{\"tag_list\": {'$regex': \"design\"}},\n",
    "             {'offices': {'$exists': 1}}]}\n",
    "projection_3 = {'name':1, '_id':0, 'tag_list':1, 'offices.country_code': 1, \"offices.state_code\":1,'offices.city':1, 'offices.latitude':1,'offices.longitude':1}\n",
    "list_3 = list(c.find(filter_3, projection_3).sort('offices.country_code'))"
   ]
  },
  {
   "cell_type": "code",
   "execution_count": 148,
   "metadata": {},
   "outputs": [
    {
     "data": {
      "text/html": [
       "<div>\n",
       "<style scoped>\n",
       "    .dataframe tbody tr th:only-of-type {\n",
       "        vertical-align: middle;\n",
       "    }\n",
       "\n",
       "    .dataframe tbody tr th {\n",
       "        vertical-align: top;\n",
       "    }\n",
       "\n",
       "    .dataframe thead th {\n",
       "        text-align: right;\n",
       "    }\n",
       "</style>\n",
       "<table border=\"1\" class=\"dataframe\">\n",
       "  <thead>\n",
       "    <tr style=\"text-align: right;\">\n",
       "      <th></th>\n",
       "      <th>name</th>\n",
       "      <th>tag_list</th>\n",
       "      <th>city</th>\n",
       "      <th>state_code</th>\n",
       "      <th>country_code</th>\n",
       "      <th>latitude</th>\n",
       "      <th>longitude</th>\n",
       "    </tr>\n",
       "  </thead>\n",
       "  <tbody>\n",
       "    <tr>\n",
       "      <th>101</th>\n",
       "      <td>Making Sense</td>\n",
       "      <td>custom-software-development, email-marketing, ...</td>\n",
       "      <td>San Antonio</td>\n",
       "      <td>TX</td>\n",
       "      <td>USA</td>\n",
       "      <td>29.516352</td>\n",
       "      <td>-98.436760</td>\n",
       "    </tr>\n",
       "    <tr>\n",
       "      <th>102</th>\n",
       "      <td>Making Sense</td>\n",
       "      <td>custom-software-development, email-marketing, ...</td>\n",
       "      <td>Buenos Aires</td>\n",
       "      <td>None</td>\n",
       "      <td>ARG</td>\n",
       "      <td>-34.589281</td>\n",
       "      <td>-58.432970</td>\n",
       "    </tr>\n",
       "    <tr>\n",
       "      <th>103</th>\n",
       "      <td>Making Sense</td>\n",
       "      <td>custom-software-development, email-marketing, ...</td>\n",
       "      <td>Mar del Plata</td>\n",
       "      <td>None</td>\n",
       "      <td>ARG</td>\n",
       "      <td>-38.006092</td>\n",
       "      <td>-57.558244</td>\n",
       "    </tr>\n",
       "    <tr>\n",
       "      <th>105</th>\n",
       "      <td>Popego</td>\n",
       "      <td>techcrunch50, tc50, web-service, interests, se...</td>\n",
       "      <td>San Francisco</td>\n",
       "      <td>CA</td>\n",
       "      <td>USA</td>\n",
       "      <td>37.778687</td>\n",
       "      <td>-122.421242</td>\n",
       "    </tr>\n",
       "    <tr>\n",
       "      <th>108</th>\n",
       "      <td>Popego</td>\n",
       "      <td>techcrunch50, tc50, web-service, interests, se...</td>\n",
       "      <td>San Francisco</td>\n",
       "      <td>CA</td>\n",
       "      <td>USA</td>\n",
       "      <td>37.778687</td>\n",
       "      <td>-122.421242</td>\n",
       "    </tr>\n",
       "  </tbody>\n",
       "</table>\n",
       "</div>"
      ],
      "text/plain": [
       "             name                                           tag_list  \\\n",
       "101  Making Sense  custom-software-development, email-marketing, ...   \n",
       "102  Making Sense  custom-software-development, email-marketing, ...   \n",
       "103  Making Sense  custom-software-development, email-marketing, ...   \n",
       "105        Popego  techcrunch50, tc50, web-service, interests, se...   \n",
       "108        Popego  techcrunch50, tc50, web-service, interests, se...   \n",
       "\n",
       "              city state_code country_code   latitude   longitude  \n",
       "101    San Antonio         TX          USA  29.516352  -98.436760  \n",
       "102   Buenos Aires       None          ARG -34.589281  -58.432970  \n",
       "103  Mar del Plata       None          ARG -38.006092  -57.558244  \n",
       "105  San Francisco         CA          USA  37.778687 -122.421242  \n",
       "108  San Francisco         CA          USA  37.778687 -122.421242  "
      ]
     },
     "execution_count": 148,
     "metadata": {},
     "output_type": "execute_result"
    }
   ],
   "source": [
    "df_3 = pd.DataFrame(list_3).explode(\"offices\").reset_index(drop=True)\n",
    "df_3 = pd.concat([df_3, df_3[\"offices\"].apply(pd.Series)], axis=1).reset_index(drop=True)\n",
    "df_3.drop(columns= 'offices', inplace=True)\n",
    "df_3.dropna(subset=[\"city\"],inplace=True)\n",
    "df_3.dropna(subset=[\"latitude\"],inplace=True)\n",
    "df_3.drop(columns= 0, inplace=True)\n",
    "df_3 = df_3[df_3['city']!='']\n",
    "df_3[:5]"
   ]
  },
  {
   "cell_type": "code",
   "execution_count": 149,
   "metadata": {},
   "outputs": [
    {
     "data": {
      "text/plain": [
       "New York         18\n",
       "London           14\n",
       "San Francisco    12\n",
       "Los Angeles       9\n",
       "San Diego         8\n",
       "Name: city, dtype: int64"
      ]
     },
     "execution_count": 149,
     "metadata": {},
     "output_type": "execute_result"
    }
   ],
   "source": [
    "df_3['city'].value_counts()[:5]"
   ]
  },
  {
   "cell_type": "code",
   "execution_count": 150,
   "metadata": {},
   "outputs": [],
   "source": [
    "df_3_SF = df_3[df_3['city'] == 'San Francisco']"
   ]
  },
  {
   "cell_type": "code",
   "execution_count": 151,
   "metadata": {},
   "outputs": [],
   "source": [
    "# Im going to focus on San Francisco\n",
    "# Lots of tech start ups with +1 M funding\n",
    "# Video games companies nearby\n",
    "# Design companies nearby"
   ]
  },
  {
   "cell_type": "markdown",
   "metadata": {},
   "source": [
    "Create a collection with the offices in the Companies DB"
   ]
  },
  {
   "cell_type": "code",
   "execution_count": 152,
   "metadata": {},
   "outputs": [],
   "source": [
    "o = db.get_collection('Offices')"
   ]
  },
  {
   "cell_type": "code",
   "execution_count": 153,
   "metadata": {},
   "outputs": [
    {
     "data": {
      "text/plain": [
       "<pymongo.results.InsertManyResult at 0x28b26359140>"
      ]
     },
     "execution_count": 153,
     "metadata": {},
     "output_type": "execute_result"
    }
   ],
   "source": [
    "new_collection = c.aggregate([\n",
    "    {\"$unwind\":\"$offices\"},\n",
    "    {\"$match\":{\"offices.latitude\":{\"$ne\":None}, \"offices.longitude\":{\"$ne\":None}}},\n",
    "    {\"$project\":{\"_id\":0}}])\n",
    "o.insert_many(new_collection)   "
   ]
  },
  {
   "cell_type": "code",
   "execution_count": 154,
   "metadata": {},
   "outputs": [],
   "source": [
    "list_offices = o.find({},{\"offices\":1})"
   ]
  },
  {
   "cell_type": "code",
   "execution_count": 155,
   "metadata": {},
   "outputs": [],
   "source": [
    "for company in list_offices:\n",
    "    geojson = {\n",
    "        \"type\":\"Point\",\n",
    "        \"coordinates\":[company[\"offices\"][\"longitude\"], company[\"offices\"][\"latitude\"]]\n",
    "    } \n",
    "    o.update_one(company, {\"$set\":{\"geojson\":geojson}})"
   ]
  },
  {
   "cell_type": "code",
   "execution_count": 156,
   "metadata": {},
   "outputs": [
    {
     "data": {
      "text/plain": [
       "'geojson_2dsphere'"
      ]
     },
     "execution_count": 156,
     "metadata": {},
     "output_type": "execute_result"
    }
   ],
   "source": [
    "o.create_index([(\"geojson\", \"2dsphere\")])"
   ]
  },
  {
   "cell_type": "markdown",
   "metadata": {},
   "source": [
    "Look at the offices located at San Francisco and show them in a map to see where we can locate our offices."
   ]
  },
  {
   "cell_type": "code",
   "execution_count": 157,
   "metadata": {},
   "outputs": [],
   "source": [
    "total_offices_worldwide = pd.DataFrame(list(o.find()))\n",
    "total_offices_worldwide = total_offices_worldwide[['name', 'offices', 'geojson']]"
   ]
  },
  {
   "cell_type": "code",
   "execution_count": 158,
   "metadata": {},
   "outputs": [
    {
     "data": {
      "text/html": [
       "<div>\n",
       "<style scoped>\n",
       "    .dataframe tbody tr th:only-of-type {\n",
       "        vertical-align: middle;\n",
       "    }\n",
       "\n",
       "    .dataframe tbody tr th {\n",
       "        vertical-align: top;\n",
       "    }\n",
       "\n",
       "    .dataframe thead th {\n",
       "        text-align: right;\n",
       "    }\n",
       "</style>\n",
       "<table border=\"1\" class=\"dataframe\">\n",
       "  <thead>\n",
       "    <tr style=\"text-align: right;\">\n",
       "      <th></th>\n",
       "      <th>name</th>\n",
       "      <th>country_code</th>\n",
       "      <th>city</th>\n",
       "      <th>state_code</th>\n",
       "      <th>longitude</th>\n",
       "      <th>latitude</th>\n",
       "      <th>geojson</th>\n",
       "    </tr>\n",
       "  </thead>\n",
       "  <tbody>\n",
       "    <tr>\n",
       "      <th>1715</th>\n",
       "      <td>Joberator</td>\n",
       "      <td>USA</td>\n",
       "      <td>St Petersburg</td>\n",
       "      <td>FL</td>\n",
       "      <td>-82.634253</td>\n",
       "      <td>27.773404</td>\n",
       "      <td>{'type': 'Point', 'coordinates': [-82.6342535,...</td>\n",
       "    </tr>\n",
       "  </tbody>\n",
       "</table>\n",
       "</div>"
      ],
      "text/plain": [
       "           name country_code           city state_code  longitude   latitude  \\\n",
       "1715  Joberator          USA  St Petersburg         FL -82.634253  27.773404   \n",
       "\n",
       "                                                geojson  \n",
       "1715  {'type': 'Point', 'coordinates': [-82.6342535,...  "
      ]
     },
     "execution_count": 158,
     "metadata": {},
     "output_type": "execute_result"
    }
   ],
   "source": [
    "total_offices_worldwide = pd.concat([total_offices_worldwide, total_offices_worldwide['offices'].apply(pd.Series)], axis=1).reset_index(drop=True)\n",
    "total_offices_worldwide = total_offices_worldwide[['name', 'country_code', 'city', 'state_code', 'longitude', 'latitude', 'geojson']]\n",
    "total_offices_worldwide = total_offices_worldwide[total_offices_worldwide[\"country_code\"]==\"USA\"]\n",
    "total_offices_worldwide.sample()"
   ]
  },
  {
   "cell_type": "code",
   "execution_count": 159,
   "metadata": {},
   "outputs": [
    {
     "data": {
      "text/html": [
       "<div>\n",
       "<style scoped>\n",
       "    .dataframe tbody tr th:only-of-type {\n",
       "        vertical-align: middle;\n",
       "    }\n",
       "\n",
       "    .dataframe tbody tr th {\n",
       "        vertical-align: top;\n",
       "    }\n",
       "\n",
       "    .dataframe thead th {\n",
       "        text-align: right;\n",
       "    }\n",
       "</style>\n",
       "<table border=\"1\" class=\"dataframe\">\n",
       "  <thead>\n",
       "    <tr style=\"text-align: right;\">\n",
       "      <th></th>\n",
       "      <th>name</th>\n",
       "      <th>country_code</th>\n",
       "      <th>city</th>\n",
       "      <th>state_code</th>\n",
       "      <th>longitude</th>\n",
       "      <th>latitude</th>\n",
       "      <th>geojson</th>\n",
       "    </tr>\n",
       "  </thead>\n",
       "  <tbody>\n",
       "    <tr>\n",
       "      <th>364</th>\n",
       "      <td>Weebly</td>\n",
       "      <td>USA</td>\n",
       "      <td>San Francisco</td>\n",
       "      <td>CA</td>\n",
       "      <td>-122.400729</td>\n",
       "      <td>37.795555</td>\n",
       "      <td>{'type': 'Point', 'coordinates': [-122.400729,...</td>\n",
       "    </tr>\n",
       "  </tbody>\n",
       "</table>\n",
       "</div>"
      ],
      "text/plain": [
       "       name country_code           city state_code   longitude   latitude  \\\n",
       "364  Weebly          USA  San Francisco         CA -122.400729  37.795555   \n",
       "\n",
       "                                               geojson  \n",
       "364  {'type': 'Point', 'coordinates': [-122.400729,...  "
      ]
     },
     "execution_count": 159,
     "metadata": {},
     "output_type": "execute_result"
    }
   ],
   "source": [
    "total_offices_SF = total_offices_worldwide[total_offices_worldwide['city'] == 'San Francisco']\n",
    "total_offices_SF.sample()"
   ]
  },
  {
   "cell_type": "code",
   "execution_count": 160,
   "metadata": {},
   "outputs": [
    {
     "data": {
      "text/plain": [
       "(659, 7)"
      ]
     },
     "execution_count": 160,
     "metadata": {},
     "output_type": "execute_result"
    }
   ],
   "source": [
    "total_offices_SF.shape"
   ]
  },
  {
   "cell_type": "code",
   "execution_count": 161,
   "metadata": {},
   "outputs": [
    {
     "data": {
      "text/html": [
       "<div style=\"width:100%;\"><div style=\"position:relative;width:100%;height:0;padding-bottom:60%;\"><span style=\"color:#565656\">Make this Notebook Trusted to load map: File -> Trust Notebook</span><iframe srcdoc=\"&lt;!DOCTYPE html&gt;\n",
       "&lt;head&gt;    \n",
       "    &lt;meta http-equiv=&quot;content-type&quot; content=&quot;text/html; charset=UTF-8&quot; /&gt;\n",
       "    \n",
       "        &lt;script&gt;\n",
       "            L_NO_TOUCH = false;\n",
       "            L_DISABLE_3D = false;\n",
       "        &lt;/script&gt;\n",
       "    \n",
       "    &lt;style&gt;html, body {width: 100%;height: 100%;margin: 0;padding: 0;}&lt;/style&gt;\n",
       "    &lt;style&gt;#map {position:absolute;top:0;bottom:0;right:0;left:0;}&lt;/style&gt;\n",
       "    &lt;script src=&quot;https://cdn.jsdelivr.net/npm/leaflet@1.6.0/dist/leaflet.js&quot;&gt;&lt;/script&gt;\n",
       "    &lt;script src=&quot;https://code.jquery.com/jquery-1.12.4.min.js&quot;&gt;&lt;/script&gt;\n",
       "    &lt;script src=&quot;https://maxcdn.bootstrapcdn.com/bootstrap/3.2.0/js/bootstrap.min.js&quot;&gt;&lt;/script&gt;\n",
       "    &lt;script src=&quot;https://cdnjs.cloudflare.com/ajax/libs/Leaflet.awesome-markers/2.0.2/leaflet.awesome-markers.js&quot;&gt;&lt;/script&gt;\n",
       "    &lt;link rel=&quot;stylesheet&quot; href=&quot;https://cdn.jsdelivr.net/npm/leaflet@1.6.0/dist/leaflet.css&quot;/&gt;\n",
       "    &lt;link rel=&quot;stylesheet&quot; href=&quot;https://maxcdn.bootstrapcdn.com/bootstrap/3.2.0/css/bootstrap.min.css&quot;/&gt;\n",
       "    &lt;link rel=&quot;stylesheet&quot; href=&quot;https://maxcdn.bootstrapcdn.com/bootstrap/3.2.0/css/bootstrap-theme.min.css&quot;/&gt;\n",
       "    &lt;link rel=&quot;stylesheet&quot; href=&quot;https://maxcdn.bootstrapcdn.com/font-awesome/4.6.3/css/font-awesome.min.css&quot;/&gt;\n",
       "    &lt;link rel=&quot;stylesheet&quot; href=&quot;https://cdnjs.cloudflare.com/ajax/libs/Leaflet.awesome-markers/2.0.2/leaflet.awesome-markers.css&quot;/&gt;\n",
       "    &lt;link rel=&quot;stylesheet&quot; href=&quot;https://cdn.jsdelivr.net/gh/python-visualization/folium/folium/templates/leaflet.awesome.rotate.min.css&quot;/&gt;\n",
       "    \n",
       "            &lt;meta name=&quot;viewport&quot; content=&quot;width=device-width,\n",
       "                initial-scale=1.0, maximum-scale=1.0, user-scalable=no&quot; /&gt;\n",
       "            &lt;style&gt;\n",
       "                #map_1cafe04932e2893b2ea893399ffb7c3a {\n",
       "                    position: relative;\n",
       "                    width: 100.0%;\n",
       "                    height: 100.0%;\n",
       "                    left: 0.0%;\n",
       "                    top: 0.0%;\n",
       "                }\n",
       "            &lt;/style&gt;\n",
       "        \n",
       "&lt;/head&gt;\n",
       "&lt;body&gt;    \n",
       "    \n",
       "            &lt;div class=&quot;folium-map&quot; id=&quot;map_1cafe04932e2893b2ea893399ffb7c3a&quot; &gt;&lt;/div&gt;\n",
       "        \n",
       "&lt;/body&gt;\n",
       "&lt;script&gt;    \n",
       "    \n",
       "            var map_1cafe04932e2893b2ea893399ffb7c3a = L.map(\n",
       "                &quot;map_1cafe04932e2893b2ea893399ffb7c3a&quot;,\n",
       "                {\n",
       "                    center: [37.76961, -122.4537724],\n",
       "                    crs: L.CRS.EPSG3857,\n",
       "                    zoom: 12,\n",
       "                    zoomControl: true,\n",
       "                    preferCanvas: false,\n",
       "                }\n",
       "            );\n",
       "\n",
       "            \n",
       "\n",
       "        \n",
       "    \n",
       "            var tile_layer_49525a0aef6eb6fec6b7c1dae373a1f6 = L.tileLayer(\n",
       "                &quot;https://{s}.tile.openstreetmap.org/{z}/{x}/{y}.png&quot;,\n",
       "                {&quot;attribution&quot;: &quot;Data by \\u0026copy; \\u003ca href=\\&quot;http://openstreetmap.org\\&quot;\\u003eOpenStreetMap\\u003c/a\\u003e, under \\u003ca href=\\&quot;http://www.openstreetmap.org/copyright\\&quot;\\u003eODbL\\u003c/a\\u003e.&quot;, &quot;detectRetina&quot;: false, &quot;maxNativeZoom&quot;: 18, &quot;maxZoom&quot;: 18, &quot;minZoom&quot;: 0, &quot;noWrap&quot;: false, &quot;opacity&quot;: 1, &quot;subdomains&quot;: &quot;abc&quot;, &quot;tms&quot;: false}\n",
       "            ).addTo(map_1cafe04932e2893b2ea893399ffb7c3a);\n",
       "        \n",
       "&lt;/script&gt;\" style=\"position:absolute;width:100%;height:100%;left:0;top:0;border:none !important;\" allowfullscreen webkitallowfullscreen mozallowfullscreen></iframe></div></div>"
      ],
      "text/plain": [
       "<folium.folium.Map at 0x28b1a0a3310>"
      ]
     },
     "execution_count": 161,
     "metadata": {},
     "output_type": "execute_result"
    }
   ],
   "source": [
    "san_fran_map = Map(location= [37.76961,-122.4537724], zoom_start=12)\n",
    "san_fran_map"
   ]
  },
  {
   "cell_type": "code",
   "execution_count": 162,
   "metadata": {},
   "outputs": [
    {
     "data": {
      "text/plain": [
       "<folium.map.FeatureGroup at 0x28b0b541940>"
      ]
     },
     "execution_count": 162,
     "metadata": {},
     "output_type": "execute_result"
    }
   ],
   "source": [
    "sf_group = folium.FeatureGroup(name= 'SanFran Offices')\n",
    "HeatMap(data = total_offices_SF[['latitude', 'longitude']], radius=10).add_to(sf_group)\n",
    "sf_group.add_to(san_fran_map)"
   ]
  },
  {
   "cell_type": "code",
   "execution_count": 163,
   "metadata": {},
   "outputs": [
    {
     "data": {
      "text/plain": [
       "<folium.map.FeatureGroup at 0x28b25d3a760>"
      ]
     },
     "execution_count": 163,
     "metadata": {},
     "output_type": "execute_result"
    }
   ],
   "source": [
    "df_group = folium.FeatureGroup(name= 'SanFran Companies that raised +1M')\n",
    "HeatMap(data = df_SF[['latitude', 'longitude']], radius=10, gradient={'0':'Navy', '0.25':'Blue','0.5':'Green', '0.75':'Yellow','1': 'Red'}).add_to(df_group)\n",
    "df_group.add_to(san_fran_map)"
   ]
  },
  {
   "cell_type": "code",
   "execution_count": 164,
   "metadata": {},
   "outputs": [
    {
     "data": {
      "text/plain": [
       "<folium.map.FeatureGroup at 0x28b1a0a31c0>"
      ]
     },
     "execution_count": 164,
     "metadata": {},
     "output_type": "execute_result"
    }
   ],
   "source": [
    "df_2_group = folium.FeatureGroup(name= 'SanFran Video Games Companies')\n",
    "HeatMap(data = df_2_SF[['latitude', 'longitude']], radius=10, gradient = {0.4: 'yellow', 0.65: 'orange', 1: 'white'}).add_to(df_2_group)\n",
    "df_2_group.add_to(san_fran_map)"
   ]
  },
  {
   "cell_type": "code",
   "execution_count": 165,
   "metadata": {},
   "outputs": [
    {
     "data": {
      "text/plain": [
       "<folium.map.FeatureGroup at 0x28b1a0a3ca0>"
      ]
     },
     "execution_count": 165,
     "metadata": {},
     "output_type": "execute_result"
    }
   ],
   "source": [
    "df_3_group = folium.FeatureGroup(name= 'SanFran Design Companies')\n",
    "HeatMap(data = df_3_SF[['latitude', 'longitude']], radius=15, gradient = {0.4: 'gray', 0.65: 'black', 1: 'white'}).add_to(df_3_group)\n",
    "df_3_group.add_to(san_fran_map)"
   ]
  },
  {
   "cell_type": "code",
   "execution_count": 166,
   "metadata": {},
   "outputs": [
    {
     "data": {
      "text/plain": [
       "<folium.map.LayerControl at 0x28b1a0a3f70>"
      ]
     },
     "execution_count": 166,
     "metadata": {},
     "output_type": "execute_result"
    }
   ],
   "source": [
    "folium.LayerControl(collapsed=False, position=\"topleft\").add_to(san_fran_map)"
   ]
  },
  {
   "cell_type": "code",
   "execution_count": 167,
   "metadata": {},
   "outputs": [],
   "source": [
    "point1_lat = 37.775762764480874\n",
    "point1_long = -122.41617630836654"
   ]
  },
  {
   "cell_type": "code",
   "execution_count": 179,
   "metadata": {},
   "outputs": [
    {
     "data": {
      "text/plain": [
       "<folium.map.Marker at 0x28b25d3abb0>"
      ]
     },
     "execution_count": 179,
     "metadata": {},
     "output_type": "execute_result"
    }
   ],
   "source": [
    "icon = Icon(color = \"red\",\n",
    "            opacity = 0.1,\n",
    "            prefix = \"fa\",\n",
    "            icon = \"map-pin\",\n",
    "            icon_color = \"white\"\n",
    ")\n",
    "point1 = Marker(location = [point1_lat, point1_long], tooltip=\"Potential Location 1\", icon=icon)\n",
    "point1.add_to(san_fran_map)"
   ]
  },
  {
   "cell_type": "code",
   "execution_count": 169,
   "metadata": {},
   "outputs": [],
   "source": [
    "point2_lat = 37.78984423851833\n",
    "point2_long = -122.40163489291831"
   ]
  },
  {
   "cell_type": "code",
   "execution_count": 184,
   "metadata": {},
   "outputs": [
    {
     "data": {
      "text/plain": [
       "<folium.map.Marker at 0x28b1a0a3580>"
      ]
     },
     "execution_count": 184,
     "metadata": {},
     "output_type": "execute_result"
    }
   ],
   "source": [
    "icon = Icon(color = \"red\",\n",
    "            opacity = 0.1,\n",
    "            prefix = \"fa\",\n",
    "            icon = \"map-pin\",\n",
    "            icon_color = \"white\"\n",
    ")\n",
    "point2 = Marker(location = [point2_lat, point2_long], tooltip=\"Potential Location 2\", icon=icon)\n",
    "point2.add_to(san_fran_map)"
   ]
  },
  {
   "cell_type": "code",
   "execution_count": null,
   "metadata": {},
   "outputs": [],
   "source": []
  },
  {
   "cell_type": "code",
   "execution_count": 185,
   "metadata": {},
   "outputs": [
    {
     "data": {
      "text/html": [
       "<div style=\"width:100%;\"><div style=\"position:relative;width:100%;height:0;padding-bottom:60%;\"><span style=\"color:#565656\">Make this Notebook Trusted to load map: File -> Trust Notebook</span><iframe srcdoc=\"&lt;!DOCTYPE html&gt;\n",
       "&lt;head&gt;    \n",
       "    &lt;meta http-equiv=&quot;content-type&quot; content=&quot;text/html; charset=UTF-8&quot; /&gt;\n",
       "    \n",
       "        &lt;script&gt;\n",
       "            L_NO_TOUCH = false;\n",
       "            L_DISABLE_3D = false;\n",
       "        &lt;/script&gt;\n",
       "    \n",
       "    &lt;style&gt;html, body {width: 100%;height: 100%;margin: 0;padding: 0;}&lt;/style&gt;\n",
       "    &lt;style&gt;#map {position:absolute;top:0;bottom:0;right:0;left:0;}&lt;/style&gt;\n",
       "    &lt;script src=&quot;https://cdn.jsdelivr.net/npm/leaflet@1.6.0/dist/leaflet.js&quot;&gt;&lt;/script&gt;\n",
       "    &lt;script src=&quot;https://code.jquery.com/jquery-1.12.4.min.js&quot;&gt;&lt;/script&gt;\n",
       "    &lt;script src=&quot;https://maxcdn.bootstrapcdn.com/bootstrap/3.2.0/js/bootstrap.min.js&quot;&gt;&lt;/script&gt;\n",
       "    &lt;script src=&quot;https://cdnjs.cloudflare.com/ajax/libs/Leaflet.awesome-markers/2.0.2/leaflet.awesome-markers.js&quot;&gt;&lt;/script&gt;\n",
       "    &lt;link rel=&quot;stylesheet&quot; href=&quot;https://cdn.jsdelivr.net/npm/leaflet@1.6.0/dist/leaflet.css&quot;/&gt;\n",
       "    &lt;link rel=&quot;stylesheet&quot; href=&quot;https://maxcdn.bootstrapcdn.com/bootstrap/3.2.0/css/bootstrap.min.css&quot;/&gt;\n",
       "    &lt;link rel=&quot;stylesheet&quot; href=&quot;https://maxcdn.bootstrapcdn.com/bootstrap/3.2.0/css/bootstrap-theme.min.css&quot;/&gt;\n",
       "    &lt;link rel=&quot;stylesheet&quot; href=&quot;https://maxcdn.bootstrapcdn.com/font-awesome/4.6.3/css/font-awesome.min.css&quot;/&gt;\n",
       "    &lt;link rel=&quot;stylesheet&quot; href=&quot;https://cdnjs.cloudflare.com/ajax/libs/Leaflet.awesome-markers/2.0.2/leaflet.awesome-markers.css&quot;/&gt;\n",
       "    &lt;link rel=&quot;stylesheet&quot; href=&quot;https://cdn.jsdelivr.net/gh/python-visualization/folium/folium/templates/leaflet.awesome.rotate.min.css&quot;/&gt;\n",
       "    \n",
       "            &lt;meta name=&quot;viewport&quot; content=&quot;width=device-width,\n",
       "                initial-scale=1.0, maximum-scale=1.0, user-scalable=no&quot; /&gt;\n",
       "            &lt;style&gt;\n",
       "                #map_1cafe04932e2893b2ea893399ffb7c3a {\n",
       "                    position: relative;\n",
       "                    width: 100.0%;\n",
       "                    height: 100.0%;\n",
       "                    left: 0.0%;\n",
       "                    top: 0.0%;\n",
       "                }\n",
       "            &lt;/style&gt;\n",
       "        \n",
       "    &lt;script src=&quot;https://cdn.jsdelivr.net/gh/python-visualization/folium@main/folium/templates/leaflet_heat.min.js&quot;&gt;&lt;/script&gt;\n",
       "&lt;/head&gt;\n",
       "&lt;body&gt;    \n",
       "    \n",
       "            &lt;div class=&quot;folium-map&quot; id=&quot;map_1cafe04932e2893b2ea893399ffb7c3a&quot; &gt;&lt;/div&gt;\n",
       "        \n",
       "&lt;/body&gt;\n",
       "&lt;script&gt;    \n",
       "    \n",
       "            var map_1cafe04932e2893b2ea893399ffb7c3a = L.map(\n",
       "                &quot;map_1cafe04932e2893b2ea893399ffb7c3a&quot;,\n",
       "                {\n",
       "                    center: [37.76961, -122.4537724],\n",
       "                    crs: L.CRS.EPSG3857,\n",
       "                    zoom: 12,\n",
       "                    zoomControl: true,\n",
       "                    preferCanvas: false,\n",
       "                }\n",
       "            );\n",
       "\n",
       "            \n",
       "\n",
       "        \n",
       "    \n",
       "            var tile_layer_49525a0aef6eb6fec6b7c1dae373a1f6 = L.tileLayer(\n",
       "                &quot;https://{s}.tile.openstreetmap.org/{z}/{x}/{y}.png&quot;,\n",
       "                {&quot;attribution&quot;: &quot;Data by \\u0026copy; \\u003ca href=\\&quot;http://openstreetmap.org\\&quot;\\u003eOpenStreetMap\\u003c/a\\u003e, under \\u003ca href=\\&quot;http://www.openstreetmap.org/copyright\\&quot;\\u003eODbL\\u003c/a\\u003e.&quot;, &quot;detectRetina&quot;: false, &quot;maxNativeZoom&quot;: 18, &quot;maxZoom&quot;: 18, &quot;minZoom&quot;: 0, &quot;noWrap&quot;: false, &quot;opacity&quot;: 1, &quot;subdomains&quot;: &quot;abc&quot;, &quot;tms&quot;: false}\n",
       "            ).addTo(map_1cafe04932e2893b2ea893399ffb7c3a);\n",
       "        \n",
       "    \n",
       "            var feature_group_6893b6b26270bb2cb47c6412ec072d44 = L.featureGroup(\n",
       "                {}\n",
       "            ).addTo(map_1cafe04932e2893b2ea893399ffb7c3a);\n",
       "        \n",
       "    \n",
       "            var heat_map_5956c84c0ab478e4effea47c6de5e213 = L.heatLayer(\n",
       "                [[37.764726, -122.394523], [37.7768052, -122.4169244], [37.775196, -122.419204], [37.789634, -122.404052], [37.778613, -122.395289], [37.779558, -122.393041], [37.788482, -122.409173], [37.793148, -122.402567], [37.78976, -122.402524], [37.789803, -122.389757], [37.392936, -122.07948], [37.762541, -122.397224], [37.757758, -122.388243], [37.780716, -122.393913], [37.780134, -122.396744], [37.793819, -122.395089], [37.7870842, -122.4038047], [37.786183, -122.402195], [37.775196, -122.419204], [37.7891086, -122.4016144], [37.758113, -122.414689], [37.7791761, -122.4058887], [37.789268, -122.395184], [37.781427, -122.392144], [37.782103, -122.401116], [37.778076, -122.397977], [37.762681, -122.400909], [37.779026, -122.40184], [37.796396, -122.404869], [37.779507, -122.39071], [37.775196, -122.419204], [37.775196, -122.419204], [37.7618242, -122.3985871], [37.76785, -122.392861], [37.782263, -122.392142], [37.766909, -122.406676], [37.787183, -122.397759], [37.793703, -122.398479], [37.779558, -122.393041], [37.788668, -122.400558], [37.7753, -122.4186], [37.787092, -122.399972], [37.787683, -122.410943], [37.775196, -122.419204], [37.792394, -122.402349], [37.779392, -122.417928], [37.780883, -122.395257], [37.78554, -122.396689], [40.270666, -74.761403], [51.500152, -0.126236], [37.437328, -122.159928], [37.794649, -122.399646], [37.767575, -122.411157], [37.7909427, -122.4084994], [37.780134, -122.396744], [37.779507, -122.39071], [37.795555, -122.400729], [37.7911148, -122.3954751], [37.790998, -122.394668], [37.786942, -122.401245], [37.781557, -122.407959], [37.383779, -122.007172], [37.09024, -95.712891], [37.762125, -122.4147], [37.779558, -122.393041], [37.775196, -122.419204], [37.789488, -122.397593], [37.4459832, -122.1490582], [37.09024, -95.712891], [37.782263, -122.392142], [37.790964, -122.401128], [37.710677, -122.39323], [37.766909, -122.406676], [37.785647, -122.405265], [37.78866, -122.401406], [37.775196, -122.419204], [37.781265, -122.393229], [37.779624, -122.391236], [37.7749295, -122.4194155], [37.764169, -122.402021], [37.793742, -122.421341], [37.786175, -122.389676], [37.799549, -122.306571], [37.768708, -122.402866], [37.789634, -122.404052], [37.779558, -122.393041], [37.792262, -122.403486], [37.765125, -122.4044034], [37.775196, -122.419204], [37.775196, -122.419204], [37.783898, -122.395234], [37.856331, -122.495222], [37.775196, -122.419204], [37.792968, -122.40414], [37.782809, -122.394354], [37.744274, -122.421344], [37.7753, -122.398058], [37.7911209, -122.398125], [37.772542, -122.430127], [37.789498, -122.394265], [37.787249, -122.3990501], [37.77759, -122.395602], [37.791733, -122.398398], [37.787126, -122.39783], [37.786906, -122.397672], [37.794643, -122.401144], [37.762162, -122.413912], [37.781262, -122.394958], [37.78554, -122.396689], [37.7726402, -122.4099154], [37.803847, -122.402468], [33.754487, -84.389663], [37.78274, -122.390945], [37.7766184, -122.3938931], [37.775196, -122.419204], [37.775196, -122.419204], [37.09024, -95.712891], [37.7749295, -122.4194155], [37.7799872, -122.3975878], [37.775196, -122.419204], [37.7876952, -122.3991505], [37.790346, -122.40185], [37.559836, -122.271532], [37.78624, -122.39897], [37.870258, -122.272513], [37.771706, -122.402683], [25.752358, -80.25468], [37.392443, -122.072517], [37.763652, -122.421778], [37.775196, -122.419204], [37.856743, -122.480153], [37.795191, -122.430411], [37.798853, -122.398599], [37.765158, -122.404234], [37.7891288, -122.4020276], [37.2906027, -121.9317853], [37.775196, -122.419204], [37.788266, -122.403865], [37.788827, -122.38944], [37.762512, -122.46649], [37.7466655, -122.4428064], [37.790032, -122.404488], [37.776467, -122.395792], [37.7776778, -122.3921102], [37.775196, -122.419204], [37.798853, -122.398599], [37.78691, -122.404403], [45.6667514, -122.4721542], [37.775196, -122.419204], [37.7876175, -122.4033943], [37.7759675, -122.3931128], [37.7862705, -122.3975827], [37.7766587, -122.395875], [37.775196, -122.419204], [37.795236, -122.403607], [37.7892685, -122.3951844], [37.793375, -122.404571], [37.787126, -122.39783], [37.781002, -122.406912], [37.783046, -122.394067], [37.775196, -122.419204], [37.783151, -122.393323], [37.80294, -122.266978], [41.948365, -87.646307], [37.776467, -122.395792], [37.7809512, -122.4025016], [37.793473, -122.402667], [37.790485, -122.40094], [37.758229, -122.439512], [37.7955307, -122.4005983], [37.787183, -122.397759], [37.789268, -122.395184], [37.789268, -122.395184], [37.787683, -122.410943], [38.7072, -121.28], [37.798684, -122.40264], [37.775196, -122.419204], [37.793473, -122.402667], [37.800356, -122.402609], [37.386665, -122.084171], [37.767575, -122.411157], [37.755012, -122.418137], [37.786906, -122.397672], [37.762583, -122.46487], [37.796164, -122.420903], [37.791137, -122.391843], [37.7885714, -122.4035985], [37.7867612, -122.4014585], [37.7834147, -122.4209958], [37.775196, -122.419204], [37.781689, -122.391061], [37.789349, -122.412893], [37.804477, -122.427021], [37.764188, -122.469343], [37.766, -122.450011], [37.80391, -122.4042586], [37.775196, -122.419204], [37.796164, -122.420903], [37.796216, -122.403755], [37.781689, -122.391061], [37.79471, -122.40195], [37.776878, -122.400934], [37.76785, -122.392839], [37.790947, -122.398634], [37.7561438, -122.4325682], [31.169036, -100.076888], [37.775196, -122.419204], [37.7617955, -122.4092704], [37.786464, -122.397819], [37.773688, -122.423468], [37.787646, -122.402759], [37.792949, -122.398099], [37.792083, -122.3946404], [37.78236, -122.403256], [37.767569, -122.42215], [37.800209, -122.442592], [37.771706, -122.402683], [37.7938969, -122.4000965], [37.787423, -122.400932], [37.775196, -122.419204], [37.788457, -122.399884], [37.789551, -122.40036], [37.724999, -122.397254], [37.789803, -122.389757], [40.081697, -74.212014], [37.79851, -122.457454], [37.774997, -122.410076], [37.775196, -122.419204], [37.775196, -122.419204], [37.775196, -122.419204], [37.7819286, -122.4041764], [37.756922, -122.42087], [37.566042, -122.322954], [37.4465496, -122.1709208], [37.7896292, -122.3998782], [37.775196, -122.419204], [36.9751032, -122.0253784], [37.748676, -122.415813], [37.784137, -122.408646], [37.775058, -122.419966], [37.7881481, -122.3943387], [37.771208, -122.418129], [37.7893215, -122.4013624], [37.755012, -122.418137], [37.791242, -122.397133], [37.3944561, -122.0785314], [37.775196, -122.419204], [37.7717185, -122.4438929], [37.783383, -122.395708], [37.762681, -122.400909], [37.269175, -119.306607], [40.234451, -111.658656], [37.7746693, -122.415199], [37.787204, -122.397884], [37.777513, -122.397044], [37.775196, -122.419204], [37.803509, -122.411498], [37.773727, -122.401537], [37.775196, -122.419204], [37.7753, -122.4186], [37.754332, -122.416804], [37.7749295, -122.4194155], [37.798069, -122.43305], [37.7654195, -122.4119381], [37.789518, -122.394265], [37.791128, -122.398126], [37.775196, -122.419204], [37.787445, -122.397847], [37.775196, -122.419204], [37.7726402, -122.4099154], [37.785792, -122.405081], [37.7872512, -122.4039768], [37.7764671, -122.3957917], [37.7911186, -122.4011706], [38.764206, -102.788565], [37.78054, -122.396818], [37.775196, -122.419204], [37.798853, -122.398599], [37.771927, -122.410217], [34.091073, -118.367701], [37.790838, -122.40116], [37.781689, -122.391061], [37.7915, -122.40045], [37.791068, -122.401942], [37.775196, -122.419204], [37.790346, -122.40185], [37.781264, -122.391515], [37.78597, -122.437262], [37.779507, -122.39071], [37.797126, -122.402968], [37.7886685, -122.4005576], [37.782101, -122.389519], [37.788408, -122.405412], [37.7819286, -122.4041764], [37.796164, -122.420903], [37.7886717, -122.392725], [37.783834, -122.392063], [37.775196, -122.419204], [37.781265, -122.393229], [37.7819267, -122.3932389], [37.759591, -122.435242], [37.781249, -122.418829], [37.791391, -122.402859], [37.781265, -122.393229], [37.792636, -122.398995], [37.775392, -122.412214], [37.766909, -122.406676], [37.764169, -122.402021], [37.780134, -122.396744], [37.7932747, -122.399929], [37.7895289, -122.3885899], [38.901544, -77.044256], [37.787646, -122.402759], [37.835198, -122.477294], [37.78866, -122.401406], [37.7878037, -122.4001578], [37.789335, -122.4728], [37.786393, -122.3987745], [37.791391, -122.402859], [37.776271, -122.396506], [37.7753, -122.4186], [37.794649, -122.399646], [37.791068, -122.401942], [37.787076, -122.399412], [37.775196, -122.419204], [37.775196, -122.419204], [37.758352, -122.398379], [37.789902, -122.4007791], [37.796657, -122.403545], [37.7710177, -122.4025976], [37.7895248, -122.3886569], [37.78932, -122.390058], [43.637296, -79.425455], [37.78976, -122.402524], [37.764169, -122.402021], [37.775196, -122.419204], [37.7982385, -122.4587055], [37.75788, -122.427476], [37.788653, -122.401333], [37.7850326, -122.4004738], [37.796164, -122.420903], [37.780134, -122.396744], [55.676294, 12.568116], [37.782085, -122.409747], [37.800948, -122.447292], [37.8059887, -122.4099154], [37.786906, -122.397672], [37.775196, -122.419204], [37.805289, -122.404448], [37.797435, -122.403175], [37.5552776, -122.2997532], [37.7797255, -122.4020593], [37.7763989, -122.4177157], [37.781689, -122.391061], [37.791068, -122.401942], [37.7893215, -122.4013624], [37.743454, -122.41748], [37.791648, -122.401241], [37.775196, -122.419204], [37.7705096, -122.4015807], [37.787645, -122.423065], [37.7976785, -122.4018163], [37.7444211, -122.4392075], [37.798684, -122.40264], [37.7749295, -122.4194155], [37.776769, -122.410111], [37.796903, -122.404904], [37.787722, -122.3993979], [37.781021, -122.393528], [37.774082, -122.395681], [41.864917, -87.625271], [37.781754, -122.407709], [37.758062, -122.418642], [41.78942, -87.596232], [40.0173513, -105.2773493], [37.7899027, -122.4007846], [37.782101, -122.389519], [37.783046, -122.394067], [37.796843, -122.400346], [37.7881481, -122.3943387], [37.778687, -122.421242], [37.79289, -122.428193], [37.80204, -122.438231], [37.459112, -122.142326], [37.8255226, -122.3693356], [37.794124, -122.403223], [37.758737, -122.388336], [37.775196, -122.419204], [37.776246, -122.4179223], [37.7983181, -122.4000032], [37.7753, -122.4186], [37.777092, -122.391011], [37.779437, -122.390254], [37.792979, -122.421242], [37.580093, -122.347745], [37.7870923, -122.3999719], [37.7881481, -122.3943387], [37.783171, -122.392901], [37.775196, -122.419204], [37.764395, -122.401024], [37.7749295, -122.4194155], [37.78691, -122.404403], [37.784137, -122.408646], [37.776769, -122.410111], [37.796903, -122.404904], [37.787722, -122.3993979], [37.781021, -122.393528], [37.774082, -122.395681], [41.864917, -87.625271], [37.781754, -122.407709], [37.758062, -122.418642], [41.78942, -87.596232], [40.0173513, -105.2773493], [37.7899027, -122.4007846], [37.782101, -122.389519], [37.783046, -122.394067], [37.796843, -122.400346], [37.7881481, -122.3943387], [37.778687, -122.421242], [37.79289, -122.428193], [37.80204, -122.438231], [37.459112, -122.142326], [37.8255226, -122.3693356], [37.794124, -122.403223], [37.758737, -122.388336], [37.775196, -122.419204], [37.776246, -122.4179223], [37.7983181, -122.4000032], [37.7753, -122.4186], [37.777092, -122.391011], [37.779437, -122.390254], [37.792979, -122.421242], [37.580093, -122.347745], [37.7870923, -122.3999719], [37.7881481, -122.3943387], [37.783171, -122.392901], [37.775196, -122.419204], [37.764395, -122.401024], [37.7749295, -122.4194155], [37.78691, -122.404403], [37.784137, -122.408646], [37.771706, -122.402683], [37.775196, -122.419204], [37.804619, -122.371203], [37.772938, -122.414952], [37.792821, -122.404086], [37.775196, -122.419204], [37.761404, -122.420572], [37.79402, -122.4031242], [37.590339, -122.341715], [37.779624, -122.391236], [37.759117, -122.415869], [37.775196, -122.419204], [37.779558, -122.393041], [37.775196, -122.419204], [50.095312, 9.049981], [37.7875973, -122.4035368], [37.782163, -122.400591], [37.775196, -122.419204], [37.763293, -122.410752], [37.790744, -122.39203], [37.420728, -122.2103414], [37.79023, -122.403073], [37.77772, -122.395785], [39.9052263, -86.0547016], [37.775028, -122.419966], [37.8448035, -122.290897], [37.775196, -122.419204], [37.788115, -122.397141], [37.786393, -122.398774], [37.7873938, -122.3884419], [37.792303, -122.423132], [37.781262, -122.394958], [37.7753, -122.398058], [37.782886, -122.394635], [37.7736667, -122.4148917], [37.775196, -122.419204], [37.781386, -122.421406], [41.7894201, -87.5962319], [37.79088, -122.392521], [37.791128, -122.398126], [37.7898499, -122.4006831], [37.793949, -122.398062], [37.794948, -122.397298], [37.7759421, -122.3931139], [37.3792486, -122.1151274], [32.718834, -117.163841], [37.795276, -122.429788], [37.793819, -122.395089], [37.7845627, -122.3963738], [37.7618242, -122.3985871], [37.775196, -122.419204], [41.238038, -96.183033], [37.7809512, -122.4025016], [37.5401432, -122.2945885], [37.78505, -122.399817], [37.7890183, -122.3915063], [37.7710402, -122.4026325], [37.7877967, -122.3989376], [37.762718, -122.414259], [37.783171, -122.392901], [37.775196, -122.419204], [37.770067, -122.407603], [37.789778, -122.401736], [37.7965781, -122.4022856], [37.7581148, -122.4184108], [37.792796, -122.401353], [37.785655, -122.398393], [37.765388, -122.403111], [37.8053241, -122.4052761], [37.665469, -122.38222], [37.7898499, -122.4006831], [37.791564, -122.399981], [34.0497638, -118.2474287], [37.787247, -122.399959], [40.9519444, -73.7360671], [37.793783, -122.401001], [37.775196, -122.419204], [37.794643, -122.401144], [37.80426, -122.433866], [37.775196, -122.419204], [37.791402, -122.402844], [37.7652755, -122.4204782], [37.7887135, -122.3927145], [37.7900992, -122.4021988], [37.7753, -122.4186], [37.789801, -122.395327], [37.7800788, -122.3943096], [37.789551, -122.40036], [37.7864636, -122.3978187], [37.7618242, -122.3985871], [37.777145, -122.471044], [37.793949, -122.398062], [37.791128, -122.398126], [37.7905538, -122.4041485], [37.437328, -122.159928], [37.785271, -122.397582], [37.796396, -122.404869], [37.785271, -122.397582], [37.775196, -122.419204], [37.764895, -122.446967], [37.789518, -122.394265], [37.7800539, -122.3912492], [37.737609, -122.435399], [37.79998, -122.440579], [37.787445, -122.397847], [37.795263, -122.396123], [37.7884349, -122.4038185], [37.775196, -122.419204], [37.7870923, -122.3999719], [37.7911371, -122.3973539], [37.785655, -122.398393], [37.7892685, -122.3951844], [37.7934643, -122.3979712], [37.772386, -122.405756], [37.7793652, -122.3952515], [37.788796, -122.40971], [37.795141, -122.401194], [37.7581148, -122.4184108], [37.7875973, -122.4035368], [38.88521, -76.998641], [37.577818, -122.344445], [37.7891259, -122.4020296], [37.775196, -122.419204], [37.792968, -122.40414], [59.42145, 24.8021233], [37.7870841, -122.4010675], [37.758104, -122.410304], [37.7440202, -122.4219405], [37.7905948, -122.406111], [37.7968492, -122.457623], [37.775196, -122.419204], [37.775196, -122.419204], [37.7753, -122.4186], [37.786317, -122.422503], [37.789833, -122.405863], [37.793473, -122.402667], [37.48413, -122.169472], [37.796216, -122.403755], [37.784132, -122.395913], [37.788653, -122.401333], [37.789778, -122.401736], [37.777995, -122.408914], [37.7829746, -122.4079619], [37.7983181, -122.4000032], [55.6924605, 12.530107], [37.7751779, -122.4156988], [37.776295, -122.409893], [37.778545, -122.437716], [37.7775896, -122.3956019], [37.7944822, -122.4030739], [37.778551, -122.391686], [37.783993, -122.434564], [37.7805399, -122.3968175], [37.7717185, -122.4438929], [37.7405936, -122.3764714], [37.791128, -122.398126], [37.775196, -122.419204], [37.778991, -122.401803], [37.791575, -122.39339], [37.792324, -122.401497], [37.7726402, -122.4099154], [37.772323, -122.214897], [37.7766184, -122.3938931], [37.8047037, -122.4134434], [37.772287, -122.42044], [37.775087, -122.415199], [37.79215, -122.394], [37.7581148, -122.4184108], [37.789471, -122.404113], [37.7875304, -122.3989996], [37.7753, -122.4186], [37.7550372, -122.4264417], [37.7710177, -122.4025976], [37.779868, -122.392343], [37.7795014, -122.3948712], [37.782862, -122.392342], [37.791388, -122.392148], [37.7983181, -122.4000032], [37.7824672, -122.3942549], [37.788864, -122.4008487], [51.865488, -2.235187], [37.7870283, -122.4000192], [37.7697623, -122.4183929], [37.775196, -122.419204], [37.7676285, -122.393799], [37.7818188, -122.3921131], [37.775206, -122.419209], [37.7871306, -122.4041075], [37.7919639, -122.4020588], [37.7871306, -122.4041075], [37.7868333, -122.4011603], [37.775196, -122.419204], [37.7577648, -122.3882112], [37.78671, -122.40084], [37.775196, -122.419204], [37.805289, -122.404448], [37.800482, -122.402922], [37.7923058, -122.4021273], [37.8093381, -122.4166061], [37.775196, -122.419204], [37.775196, -122.419204], [37.767575, -122.411157], [37.4484914, -122.1802812], [37.790024, -122.404121], [37.781689, -122.391061], [37.787646, -122.402759], [37.775196, -122.419204], [37.764169, -122.402021], [37.7611016, -122.4160008], [37.790947, -122.398634], [37.7869047, -122.4043924], [37.789318, -122.400655], [37.782475, -122.407764], [37.7888523, -122.4008634], [37.7814765, -122.4013217], [37.790346, -122.40185], [37.7841737, -122.4494082], [37.793949, -122.398062]],\n",
       "                {&quot;blur&quot;: 15, &quot;maxZoom&quot;: 18, &quot;minOpacity&quot;: 0.5, &quot;radius&quot;: 10}\n",
       "            ).addTo(feature_group_6893b6b26270bb2cb47c6412ec072d44);\n",
       "        \n",
       "    \n",
       "            var feature_group_8f9cd300f2590b4cfb25124984ffc5b7 = L.featureGroup(\n",
       "                {}\n",
       "            ).addTo(map_1cafe04932e2893b2ea893399ffb7c3a);\n",
       "        \n",
       "    \n",
       "            var heat_map_ca4d8f82cc82d0c684f6606a56712165 = L.heatLayer(\n",
       "                [[37.789803, -122.389757], [37.7819286, -122.4041764], [37.779507, -122.39071], [37.7955307, -122.4005983], [37.7800539, -122.3912492], [37.78866, -122.401406], [43.637296, -79.425455], [37.3944561, -122.0785314], [40.234451, -111.658656], [37.7850326, -122.4004738], [59.42145, 24.8021233], [37.792949, -122.398099], [37.7550372, -122.4264417], [55.6924605, 12.530107], [37.787249, -122.3990501], [37.7864636, -122.3978187], [37.785655, -122.398393], [37.791128, -122.398126], [37.7891086, -122.4016144], [37.779558, -122.393041], [37.771706, -122.402683], [37.783046, -122.394067], [37.78236, -122.403256], [37.7938969, -122.4000965], [37.4465496, -122.1709208], [37.798684, -122.40264], [37.776246, -122.4179223], [37.776246, -122.4179223], [37.785655, -122.398393], [37.791402, -122.402844], [37.791128, -122.398126], [51.865488, -2.235187], [37.392936, -122.07948], [37.559836, -122.271532], [37.765158, -122.404234], [37.793783, -122.401001], [37.794643, -122.401144], [37.7909427, -122.4084994], [37.790346, -122.40185], [37.795191, -122.430411], [37.787646, -122.402759], [37.787683, -122.410943], [37.764726, -122.394523], [37.7768052, -122.4169244], [37.775196, -122.419204], [37.789634, -122.404052], [37.778613, -122.395289], [37.779558, -122.393041], [37.788482, -122.409173], [37.793148, -122.402567], [37.78976, -122.402524], [37.757758, -122.388243], [37.780716, -122.393913], [37.780134, -122.396744], [37.7870842, -122.4038047], [37.786183, -122.402195], [37.758113, -122.414689], [37.789268, -122.395184], [37.781427, -122.392144], [37.782103, -122.401116], [37.762681, -122.400909], [37.779026, -122.40184], [37.796396, -122.404869], [37.779507, -122.39071], [37.775196, -122.419204], [37.775196, -122.419204], [37.782263, -122.392142], [37.766909, -122.406676], [37.793703, -122.398479], [37.788668, -122.400558], [37.7753, -122.4186], [37.787092, -122.399972], [37.775196, -122.419204], [37.792394, -122.402349], [37.78554, -122.396689], [40.270666, -74.761403], [51.500152, -0.126236], [37.437328, -122.159928], [37.767575, -122.411157], [37.7911148, -122.3954751], [37.790998, -122.394668], [37.786942, -122.401245], [37.781557, -122.407959], [37.762125, -122.4147], [37.775196, -122.419204], [37.789488, -122.397593], [37.09024, -95.712891], [37.782263, -122.392142], [37.790964, -122.401128], [37.710677, -122.39323], [37.766909, -122.406676], [37.785647, -122.405265], [37.781265, -122.393229], [37.779624, -122.391236], [37.7749295, -122.4194155], [37.764169, -122.402021], [37.768708, -122.402866], [37.789634, -122.404052], [37.765125, -122.4044034], [37.775196, -122.419204], [37.775196, -122.419204], [37.783898, -122.395234], [37.856331, -122.495222], [37.792968, -122.40414], [37.782809, -122.394354], [37.744274, -122.421344], [37.7753, -122.398058], [37.77759, -122.395602], [37.791733, -122.398398], [37.787126, -122.39783], [37.786906, -122.397672], [37.794643, -122.401144], [37.762162, -122.413912], [37.78554, -122.396689], [37.7726402, -122.4099154], [37.803847, -122.402468], [33.754487, -84.389663], [37.78274, -122.390945], [37.7766184, -122.3938931], [37.09024, -95.712891], [37.7749295, -122.4194155], [37.7876952, -122.3991505], [37.78624, -122.39897], [37.870258, -122.272513], [25.752358, -80.25468], [37.392443, -122.072517], [37.775196, -122.419204], [37.856743, -122.480153], [37.798853, -122.398599], [37.7891288, -122.4020276], [37.2906027, -121.9317853], [37.775196, -122.419204], [37.788266, -122.403865], [37.762512, -122.46649], [37.775196, -122.419204], [37.7759675, -122.3931128], [37.775196, -122.419204], [37.793375, -122.404571], [37.787126, -122.39783], [37.781002, -122.406912], [37.776467, -122.395792], [37.790485, -122.40094], [37.787183, -122.397759], [37.789268, -122.395184], [37.793473, -122.402667], [37.767575, -122.411157], [37.755012, -122.418137], [37.791137, -122.391843], [37.7885714, -122.4035985], [37.7867612, -122.4014585], [37.781689, -122.391061], [37.796164, -122.420903], [37.796216, -122.403755], [37.79471, -122.40195], [37.776878, -122.400934], [37.76785, -122.392839], [37.7617955, -122.4092704], [37.773688, -122.423468], [37.787646, -122.402759], [37.792083, -122.3946404], [37.800209, -122.442592], [37.789551, -122.40036], [37.775196, -122.419204], [37.566042, -122.322954], [36.9751032, -122.0253784], [37.748676, -122.415813], [37.775058, -122.419966], [37.771208, -122.418129], [37.7893215, -122.4013624], [37.755012, -122.418137], [37.791242, -122.397133], [37.269175, -119.306607], [37.787204, -122.397884], [37.777513, -122.397044], [37.7749295, -122.4194155], [37.7654195, -122.4119381], [37.789518, -122.394265], [37.775196, -122.419204], [37.787445, -122.397847], [37.7726402, -122.4099154], [37.785792, -122.405081], [37.7911186, -122.4011706], [37.7915, -122.40045], [37.775196, -122.419204], [37.790346, -122.40185], [37.779507, -122.39071], [37.7886685, -122.4005576], [37.782101, -122.389519], [37.796164, -122.420903], [37.7886717, -122.392725], [37.7819267, -122.3932389], [37.766909, -122.406676], [37.764169, -122.402021], [37.7932747, -122.399929], [37.7895289, -122.3885899], [37.787646, -122.402759], [37.775196, -122.419204], [37.758352, -122.398379], [37.789902, -122.4007791], [37.7710177, -122.4025976], [37.775196, -122.419204], [37.788653, -122.401333], [55.676294, 12.568116], [37.782085, -122.409747], [37.8059887, -122.4099154], [37.786906, -122.397672], [37.775196, -122.419204], [37.805289, -122.404448], [37.797435, -122.403175], [37.5552776, -122.2997532], [37.7797255, -122.4020593], [37.791068, -122.401942], [37.7893215, -122.4013624], [37.775196, -122.419204], [37.7705096, -122.4015807], [37.7976785, -122.4018163], [37.796903, -122.404904], [37.787722, -122.3993979], [41.78942, -87.596232], [40.0173513, -105.2773493], [37.7899027, -122.4007846], [37.783046, -122.394067], [37.796843, -122.400346], [37.775196, -122.419204], [37.7983181, -122.4000032], [37.777092, -122.391011], [37.580093, -122.347745], [37.7870923, -122.3999719], [37.783171, -122.392901], [37.764395, -122.401024], [37.78691, -122.404403], [37.796903, -122.404904], [37.787722, -122.3993979], [41.78942, -87.596232], [40.0173513, -105.2773493], [37.7899027, -122.4007846], [37.783046, -122.394067], [37.796843, -122.400346], [37.775196, -122.419204], [37.7983181, -122.4000032], [37.777092, -122.391011], [37.580093, -122.347745], [37.7870923, -122.3999719], [37.783171, -122.392901], [37.764395, -122.401024], [37.78691, -122.404403], [37.804619, -122.371203], [37.79402, -122.4031242], [37.779624, -122.391236], [37.759117, -122.415869], [37.775196, -122.419204], [50.095312, 9.049981], [37.782163, -122.400591], [37.763293, -122.410752], [37.420728, -122.2103414], [37.79023, -122.403073], [37.77772, -122.395785], [39.9052263, -86.0547016], [37.788115, -122.397141], [37.79088, -122.392521], [37.7898499, -122.4006831], [37.7759421, -122.3931139], [37.3792486, -122.1151274], [41.238038, -96.183033], [37.7710402, -122.4026325], [37.7877967, -122.3989376], [37.770067, -122.407603], [37.7965781, -122.4022856], [37.765388, -122.403111], [37.665469, -122.38222], [37.791564, -122.399981], [34.0497638, -118.2474287], [37.775196, -122.419204], [37.7652755, -122.4204782], [37.7887135, -122.3927145], [37.7900992, -122.4021988], [37.789801, -122.395327], [37.7800788, -122.3943096], [37.789551, -122.40036], [37.793949, -122.398062], [37.7905538, -122.4041485], [37.785271, -122.397582], [37.796396, -122.404869], [37.785271, -122.397582], [37.789518, -122.394265], [37.737609, -122.435399], [37.787445, -122.397847], [37.7911371, -122.3973539], [37.788796, -122.40971], [37.795141, -122.401194], [38.88521, -76.998641], [37.7870841, -122.4010675], [37.7905948, -122.406111], [37.777995, -122.408914], [37.7775896, -122.3956019], [37.778551, -122.391686], [37.7405936, -122.3764714], [37.778991, -122.401803], [37.789471, -122.404113], [37.7795014, -122.3948712], [37.791388, -122.392148], [37.788864, -122.4008487], [37.7870283, -122.4000192], [37.7697623, -122.4183929], [37.775196, -122.419204], [37.7676285, -122.393799], [37.775206, -122.419209], [37.7871306, -122.4041075], [37.7871306, -122.4041075], [37.805289, -122.404448], [37.775196, -122.419204], [37.775196, -122.419204], [37.767575, -122.411157], [37.4484914, -122.1802812], [37.781689, -122.391061], [37.775196, -122.419204], [37.7869047, -122.4043924], [37.782475, -122.407764]],\n",
       "                {&quot;blur&quot;: 15, &quot;gradient&quot;: {&quot;0&quot;: &quot;Navy&quot;, &quot;0.25&quot;: &quot;Blue&quot;, &quot;0.5&quot;: &quot;Green&quot;, &quot;0.75&quot;: &quot;Yellow&quot;, &quot;1&quot;: &quot;Red&quot;}, &quot;maxZoom&quot;: 18, &quot;minOpacity&quot;: 0.5, &quot;radius&quot;: 10}\n",
       "            ).addTo(feature_group_8f9cd300f2590b4cfb25124984ffc5b7);\n",
       "        \n",
       "    \n",
       "            var feature_group_3b028359949e0f747beb66dbdfd0a877 = L.featureGroup(\n",
       "                {}\n",
       "            ).addTo(map_1cafe04932e2893b2ea893399ffb7c3a);\n",
       "        \n",
       "    \n",
       "            var heat_map_32a4177f61594a401e4e891d42694682 = L.heatLayer(\n",
       "                [[37.3944561, -122.0785314], [55.6924605, 12.530107], [37.7875304, -122.3989996], [37.392936, -122.07948], [37.765158, -122.404234], [37.790346, -122.40185], [37.787646, -122.402759], [37.788482, -122.409173], [37.757758, -122.388243], [37.780716, -122.393913], [37.793819, -122.395089], [37.788668, -122.400558], [37.787092, -122.399972], [37.437328, -122.159928], [37.780134, -122.396744], [37.786942, -122.401245], [37.781557, -122.407959], [37.782263, -122.392142], [37.781265, -122.393229], [37.783898, -122.395234], [37.775196, -122.419204], [37.775196, -122.419204], [37.775196, -122.419204], [37.756922, -122.42087], [37.7893215, -122.4013624], [37.777513, -122.397044], [37.781689, -122.391061], [37.775196, -122.419204], [37.786393, -122.3987745], [37.791391, -122.402859], [37.780134, -122.396744], [37.786906, -122.397672], [37.7705096, -122.4015807], [37.783046, -122.394067], [37.80204, -122.438231], [37.783046, -122.394067], [37.80204, -122.438231], [37.804619, -122.371203], [37.775196, -122.419204], [37.420728, -122.2103414], [37.77772, -122.395785], [37.8448035, -122.290897], [37.781386, -122.421406], [37.8053241, -122.4052761], [37.7905538, -122.4041485], [37.775196, -122.419204], [37.8093381, -122.4166061], [37.764169, -122.402021], [37.7841737, -122.4494082]],\n",
       "                {&quot;blur&quot;: 15, &quot;gradient&quot;: {&quot;0.4&quot;: &quot;yellow&quot;, &quot;0.65&quot;: &quot;orange&quot;, &quot;1&quot;: &quot;white&quot;}, &quot;maxZoom&quot;: 18, &quot;minOpacity&quot;: 0.5, &quot;radius&quot;: 10}\n",
       "            ).addTo(feature_group_3b028359949e0f747beb66dbdfd0a877);\n",
       "        \n",
       "    \n",
       "            var feature_group_4e18add5c2eb5505e862ab1c23ffbb2f = L.featureGroup(\n",
       "                {}\n",
       "            ).addTo(map_1cafe04932e2893b2ea893399ffb7c3a);\n",
       "        \n",
       "    \n",
       "            var heat_map_2e740c2a101a62a6f7aa98dff6686027 = L.heatLayer(\n",
       "                [[37.778687, -122.421242], [37.778687, -122.421242], [37.7955307, -122.4005983], [37.7550372, -122.4264417], [37.764726, -122.394523], [37.79851, -122.457454], [37.797435, -122.403175], [37.776769, -122.410111], [37.792979, -122.421242], [37.776769, -122.410111], [37.792979, -122.421242], [37.775087, -122.415199]],\n",
       "                {&quot;blur&quot;: 15, &quot;gradient&quot;: {&quot;0.4&quot;: &quot;gray&quot;, &quot;0.65&quot;: &quot;black&quot;, &quot;1&quot;: &quot;white&quot;}, &quot;maxZoom&quot;: 18, &quot;minOpacity&quot;: 0.5, &quot;radius&quot;: 15}\n",
       "            ).addTo(feature_group_4e18add5c2eb5505e862ab1c23ffbb2f);\n",
       "        \n",
       "    \n",
       "            var layer_control_7eebfdcfd94b2d9553caebe8f2855076 = {\n",
       "                base_layers : {\n",
       "                    &quot;openstreetmap&quot; : tile_layer_49525a0aef6eb6fec6b7c1dae373a1f6,\n",
       "                },\n",
       "                overlays :  {\n",
       "                    &quot;SanFran Offices&quot; : feature_group_6893b6b26270bb2cb47c6412ec072d44,\n",
       "                    &quot;SanFran Companies that raised +1M&quot; : feature_group_8f9cd300f2590b4cfb25124984ffc5b7,\n",
       "                    &quot;SanFran Video Games Companies&quot; : feature_group_3b028359949e0f747beb66dbdfd0a877,\n",
       "                    &quot;SanFran Design Companies&quot; : feature_group_4e18add5c2eb5505e862ab1c23ffbb2f,\n",
       "                },\n",
       "            };\n",
       "            L.control.layers(\n",
       "                layer_control_7eebfdcfd94b2d9553caebe8f2855076.base_layers,\n",
       "                layer_control_7eebfdcfd94b2d9553caebe8f2855076.overlays,\n",
       "                {&quot;autoZIndex&quot;: true, &quot;collapsed&quot;: false, &quot;position&quot;: &quot;topleft&quot;}\n",
       "            ).addTo(map_1cafe04932e2893b2ea893399ffb7c3a);\n",
       "        \n",
       "    \n",
       "            var marker_526466f7dd82e6a343a01e03eaa5f79c = L.marker(\n",
       "                [37.775762764480874, -122.41617630836654],\n",
       "                {}\n",
       "            ).addTo(map_1cafe04932e2893b2ea893399ffb7c3a);\n",
       "        \n",
       "    \n",
       "            marker_526466f7dd82e6a343a01e03eaa5f79c.bindTooltip(\n",
       "                `&lt;div&gt;\n",
       "                     Potential Location 1\n",
       "                 &lt;/div&gt;`,\n",
       "                {&quot;sticky&quot;: true}\n",
       "            );\n",
       "        \n",
       "    \n",
       "            var marker_a5eca31b918082e443a709b20a590310 = L.marker(\n",
       "                [37.78984423851833, -122.40163489291831],\n",
       "                {}\n",
       "            ).addTo(map_1cafe04932e2893b2ea893399ffb7c3a);\n",
       "        \n",
       "    \n",
       "            marker_a5eca31b918082e443a709b20a590310.bindTooltip(\n",
       "                `&lt;div&gt;\n",
       "                     Potential Location 2\n",
       "                 &lt;/div&gt;`,\n",
       "                {&quot;sticky&quot;: true}\n",
       "            );\n",
       "        \n",
       "    \n",
       "            var marker_fa72fd75f4e12ecc039a198769cf0412 = L.marker(\n",
       "                [37.775762764480874, -122.41617630836654],\n",
       "                {}\n",
       "            ).addTo(map_1cafe04932e2893b2ea893399ffb7c3a);\n",
       "        \n",
       "    \n",
       "            var icon_5227c9652318993565cc5a36a4ceaee2 = L.AwesomeMarkers.icon(\n",
       "                {&quot;extraClasses&quot;: &quot;fa-rotate-0&quot;, &quot;icon&quot;: &quot;map-pin&quot;, &quot;iconColor&quot;: &quot;white&quot;, &quot;markerColor&quot;: &quot;black&quot;, &quot;opacity&quot;: 0.1, &quot;prefix&quot;: &quot;fa&quot;}\n",
       "            );\n",
       "            marker_fa72fd75f4e12ecc039a198769cf0412.setIcon(icon_5227c9652318993565cc5a36a4ceaee2);\n",
       "        \n",
       "    \n",
       "            marker_fa72fd75f4e12ecc039a198769cf0412.bindTooltip(\n",
       "                `&lt;div&gt;\n",
       "                     Potential Location 1\n",
       "                 &lt;/div&gt;`,\n",
       "                {&quot;sticky&quot;: true}\n",
       "            );\n",
       "        \n",
       "    \n",
       "            var marker_e83c4fd0bc6054fcba2ff77d844e85c8 = L.marker(\n",
       "                [37.775762764480874, -122.41617630836654],\n",
       "                {}\n",
       "            ).addTo(map_1cafe04932e2893b2ea893399ffb7c3a);\n",
       "        \n",
       "    \n",
       "            var icon_ebb3c5e60bafb144a103b4bda417ff6d = L.AwesomeMarkers.icon(\n",
       "                {&quot;extraClasses&quot;: &quot;fa-rotate-0&quot;, &quot;icon&quot;: &quot;map-pin&quot;, &quot;iconColor&quot;: &quot;white&quot;, &quot;markerColor&quot;: &quot;red&quot;, &quot;opacity&quot;: 0.1, &quot;prefix&quot;: &quot;fa&quot;}\n",
       "            );\n",
       "            marker_e83c4fd0bc6054fcba2ff77d844e85c8.setIcon(icon_ebb3c5e60bafb144a103b4bda417ff6d);\n",
       "        \n",
       "    \n",
       "            marker_e83c4fd0bc6054fcba2ff77d844e85c8.bindTooltip(\n",
       "                `&lt;div&gt;\n",
       "                     Potential Location 1\n",
       "                 &lt;/div&gt;`,\n",
       "                {&quot;sticky&quot;: true}\n",
       "            );\n",
       "        \n",
       "    \n",
       "            var marker_27b3584b11312f35690b0136fff65da9 = L.marker(\n",
       "                [37.78984423851833, -122.40163489291831],\n",
       "                {}\n",
       "            ).addTo(map_1cafe04932e2893b2ea893399ffb7c3a);\n",
       "        \n",
       "    \n",
       "            marker_27b3584b11312f35690b0136fff65da9.bindTooltip(\n",
       "                `&lt;div&gt;\n",
       "                     Potential Location 2\n",
       "                 &lt;/div&gt;`,\n",
       "                {&quot;sticky&quot;: true}\n",
       "            );\n",
       "        \n",
       "    \n",
       "            var marker_b9c91c8d8f125bea21545bd6085bf1d8 = L.marker(\n",
       "                [37.78984423851833, -122.40163489291831],\n",
       "                {}\n",
       "            ).addTo(map_1cafe04932e2893b2ea893399ffb7c3a);\n",
       "        \n",
       "    \n",
       "            var icon_bf7ecc4080006ad0c5fc485949d56f92 = L.AwesomeMarkers.icon(\n",
       "                {&quot;extraClasses&quot;: &quot;fa-rotate-0&quot;, &quot;icon&quot;: &quot;map-pin&quot;, &quot;iconColor&quot;: &quot;black&quot;, &quot;markerColor&quot;: &quot;red&quot;, &quot;opacity&quot;: 0.1, &quot;prefix&quot;: &quot;fa&quot;}\n",
       "            );\n",
       "            marker_b9c91c8d8f125bea21545bd6085bf1d8.setIcon(icon_bf7ecc4080006ad0c5fc485949d56f92);\n",
       "        \n",
       "    \n",
       "            marker_b9c91c8d8f125bea21545bd6085bf1d8.bindTooltip(\n",
       "                `&lt;div&gt;\n",
       "                     Potential Location 2\n",
       "                 &lt;/div&gt;`,\n",
       "                {&quot;sticky&quot;: true}\n",
       "            );\n",
       "        \n",
       "    \n",
       "            var marker_bebf4758b551de376a09cee628036060 = L.marker(\n",
       "                [37.78984423851833, -122.40163489291831],\n",
       "                {}\n",
       "            ).addTo(map_1cafe04932e2893b2ea893399ffb7c3a);\n",
       "        \n",
       "    \n",
       "            var icon_3c54f299ad1f870c9e3278dc73ea14d2 = L.AwesomeMarkers.icon(\n",
       "                {&quot;extraClasses&quot;: &quot;fa-rotate-0&quot;, &quot;icon&quot;: &quot;map-pin&quot;, &quot;iconColor&quot;: &quot;white&quot;, &quot;markerColor&quot;: &quot;red&quot;, &quot;opacity&quot;: 0.1, &quot;prefix&quot;: &quot;fa&quot;}\n",
       "            );\n",
       "            marker_bebf4758b551de376a09cee628036060.setIcon(icon_3c54f299ad1f870c9e3278dc73ea14d2);\n",
       "        \n",
       "    \n",
       "            marker_bebf4758b551de376a09cee628036060.bindTooltip(\n",
       "                `&lt;div&gt;\n",
       "                     Potential Location 2\n",
       "                 &lt;/div&gt;`,\n",
       "                {&quot;sticky&quot;: true}\n",
       "            );\n",
       "        \n",
       "&lt;/script&gt;\" style=\"position:absolute;width:100%;height:100%;left:0;top:0;border:none !important;\" allowfullscreen webkitallowfullscreen mozallowfullscreen></iframe></div></div>"
      ],
      "text/plain": [
       "<folium.folium.Map at 0x28b1a0a3310>"
      ]
     },
     "execution_count": 185,
     "metadata": {},
     "output_type": "execute_result"
    }
   ],
   "source": [
    "san_fran_map"
   ]
  },
  {
   "cell_type": "markdown",
   "metadata": {},
   "source": [
    "Download data from foursquare API"
   ]
  },
  {
   "cell_type": "code",
   "execution_count": 172,
   "metadata": {},
   "outputs": [],
   "source": [
    "load_dotenv()\n",
    "token_fsq = os.getenv(\"token_foursquare\")"
   ]
  },
  {
   "cell_type": "code",
   "execution_count": 173,
   "metadata": {},
   "outputs": [],
   "source": [
    "#Starbucks \n",
    "airports = '19031'\n",
    "barbershop = '11062'\n",
    "night_club = '10032'\n",
    "basketball = '18006'\n",
    "school = '12057'\n",
    "tram_station = '19050'\n",
    "rail_station = '19047'\n",
    "port = '19023'\n",
    "vegan = '13377'\n",
    "parks = '16032'\n"
   ]
  },
  {
   "cell_type": "code",
   "execution_count": 174,
   "metadata": {},
   "outputs": [
    {
     "name": "stdout",
     "output_type": "stream",
     "text": [
      "-119.9610752564492\n",
      "37.95546490333839\n"
     ]
    }
   ],
   "source": [
    "print(total_offices_SF['longitude'].mean())\n",
    "print(total_offices_SF['latitude'].mean())"
   ]
  },
  {
   "cell_type": "code",
   "execution_count": 175,
   "metadata": {},
   "outputs": [],
   "source": [
    "def foursquare_query (query, lat, lon):\n",
    "\n",
    "    url = f\"https://api.foursquare.com/v3/places/search?query={query}&ll={lat}%2C{lon}&limit=1\"\n",
    "\n",
    "    headers = {\"accept\": \"application/json\", \"Authorization\": token_fsq}\n",
    "    response = requests.get(url, headers=headers).json()\n",
    "\n",
    "    list = []\n",
    "    for i in response[\"results\"]:\n",
    "\n",
    "        lat = i[\"geocodes\"][\"main\"][\"latitude\"]\n",
    "        lon = i[\"geocodes\"][\"main\"][\"longitude\"]\n",
    "        distance = i[\"distance\"]\n",
    "\n",
    "        list.append(distance)\n",
    "    \n",
    "    return list"
   ]
  },
  {
   "cell_type": "code",
   "execution_count": 176,
   "metadata": {},
   "outputs": [
    {
     "ename": "ConnectionError",
     "evalue": "HTTPSConnectionPool(host='api.foursquare.com', port=443): Max retries exceeded with url: /v3/places/search?query=Starbucks&ll=37.762681%2C-122.400909&limit=1 (Caused by NewConnectionError('<urllib3.connection.HTTPSConnection object at 0x0000028B1CABA760>: Failed to establish a new connection: [WinError 10060] A connection attempt failed because the connected party did not properly respond after a period of time, or established connection failed because connected host has failed to respond'))",
     "output_type": "error",
     "traceback": [
      "\u001b[1;31m---------------------------------------------------------------------------\u001b[0m",
      "\u001b[1;31mTimeoutError\u001b[0m                              Traceback (most recent call last)",
      "File \u001b[1;32mc:\\Users\\carlo\\anaconda3\\lib\\site-packages\\urllib3\\connection.py:174\u001b[0m, in \u001b[0;36mHTTPConnection._new_conn\u001b[1;34m(self)\u001b[0m\n\u001b[0;32m    173\u001b[0m \u001b[39mtry\u001b[39;00m:\n\u001b[1;32m--> 174\u001b[0m     conn \u001b[39m=\u001b[39m connection\u001b[39m.\u001b[39mcreate_connection(\n\u001b[0;32m    175\u001b[0m         (\u001b[39mself\u001b[39m\u001b[39m.\u001b[39m_dns_host, \u001b[39mself\u001b[39m\u001b[39m.\u001b[39mport), \u001b[39mself\u001b[39m\u001b[39m.\u001b[39mtimeout, \u001b[39m*\u001b[39m\u001b[39m*\u001b[39mextra_kw\n\u001b[0;32m    176\u001b[0m     )\n\u001b[0;32m    178\u001b[0m \u001b[39mexcept\u001b[39;00m SocketTimeout:\n",
      "File \u001b[1;32mc:\\Users\\carlo\\anaconda3\\lib\\site-packages\\urllib3\\util\\connection.py:95\u001b[0m, in \u001b[0;36mcreate_connection\u001b[1;34m(address, timeout, source_address, socket_options)\u001b[0m\n\u001b[0;32m     94\u001b[0m \u001b[39mif\u001b[39;00m err \u001b[39mis\u001b[39;00m \u001b[39mnot\u001b[39;00m \u001b[39mNone\u001b[39;00m:\n\u001b[1;32m---> 95\u001b[0m     \u001b[39mraise\u001b[39;00m err\n\u001b[0;32m     97\u001b[0m \u001b[39mraise\u001b[39;00m socket\u001b[39m.\u001b[39merror(\u001b[39m\"\u001b[39m\u001b[39mgetaddrinfo returns an empty list\u001b[39m\u001b[39m\"\u001b[39m)\n",
      "File \u001b[1;32mc:\\Users\\carlo\\anaconda3\\lib\\site-packages\\urllib3\\util\\connection.py:85\u001b[0m, in \u001b[0;36mcreate_connection\u001b[1;34m(address, timeout, source_address, socket_options)\u001b[0m\n\u001b[0;32m     84\u001b[0m     sock\u001b[39m.\u001b[39mbind(source_address)\n\u001b[1;32m---> 85\u001b[0m sock\u001b[39m.\u001b[39;49mconnect(sa)\n\u001b[0;32m     86\u001b[0m \u001b[39mreturn\u001b[39;00m sock\n",
      "\u001b[1;31mTimeoutError\u001b[0m: [WinError 10060] A connection attempt failed because the connected party did not properly respond after a period of time, or established connection failed because connected host has failed to respond",
      "\nDuring handling of the above exception, another exception occurred:\n",
      "\u001b[1;31mNewConnectionError\u001b[0m                        Traceback (most recent call last)",
      "File \u001b[1;32mc:\\Users\\carlo\\anaconda3\\lib\\site-packages\\urllib3\\connectionpool.py:703\u001b[0m, in \u001b[0;36mHTTPConnectionPool.urlopen\u001b[1;34m(self, method, url, body, headers, retries, redirect, assert_same_host, timeout, pool_timeout, release_conn, chunked, body_pos, **response_kw)\u001b[0m\n\u001b[0;32m    702\u001b[0m \u001b[39m# Make the request on the httplib connection object.\u001b[39;00m\n\u001b[1;32m--> 703\u001b[0m httplib_response \u001b[39m=\u001b[39m \u001b[39mself\u001b[39;49m\u001b[39m.\u001b[39;49m_make_request(\n\u001b[0;32m    704\u001b[0m     conn,\n\u001b[0;32m    705\u001b[0m     method,\n\u001b[0;32m    706\u001b[0m     url,\n\u001b[0;32m    707\u001b[0m     timeout\u001b[39m=\u001b[39;49mtimeout_obj,\n\u001b[0;32m    708\u001b[0m     body\u001b[39m=\u001b[39;49mbody,\n\u001b[0;32m    709\u001b[0m     headers\u001b[39m=\u001b[39;49mheaders,\n\u001b[0;32m    710\u001b[0m     chunked\u001b[39m=\u001b[39;49mchunked,\n\u001b[0;32m    711\u001b[0m )\n\u001b[0;32m    713\u001b[0m \u001b[39m# If we're going to release the connection in ``finally:``, then\u001b[39;00m\n\u001b[0;32m    714\u001b[0m \u001b[39m# the response doesn't need to know about the connection. Otherwise\u001b[39;00m\n\u001b[0;32m    715\u001b[0m \u001b[39m# it will also try to release it and we'll have a double-release\u001b[39;00m\n\u001b[0;32m    716\u001b[0m \u001b[39m# mess.\u001b[39;00m\n",
      "File \u001b[1;32mc:\\Users\\carlo\\anaconda3\\lib\\site-packages\\urllib3\\connectionpool.py:386\u001b[0m, in \u001b[0;36mHTTPConnectionPool._make_request\u001b[1;34m(self, conn, method, url, timeout, chunked, **httplib_request_kw)\u001b[0m\n\u001b[0;32m    385\u001b[0m \u001b[39mtry\u001b[39;00m:\n\u001b[1;32m--> 386\u001b[0m     \u001b[39mself\u001b[39;49m\u001b[39m.\u001b[39;49m_validate_conn(conn)\n\u001b[0;32m    387\u001b[0m \u001b[39mexcept\u001b[39;00m (SocketTimeout, BaseSSLError) \u001b[39mas\u001b[39;00m e:\n\u001b[0;32m    388\u001b[0m     \u001b[39m# Py2 raises this as a BaseSSLError, Py3 raises it as socket timeout.\u001b[39;00m\n",
      "File \u001b[1;32mc:\\Users\\carlo\\anaconda3\\lib\\site-packages\\urllib3\\connectionpool.py:1040\u001b[0m, in \u001b[0;36mHTTPSConnectionPool._validate_conn\u001b[1;34m(self, conn)\u001b[0m\n\u001b[0;32m   1039\u001b[0m \u001b[39mif\u001b[39;00m \u001b[39mnot\u001b[39;00m \u001b[39mgetattr\u001b[39m(conn, \u001b[39m\"\u001b[39m\u001b[39msock\u001b[39m\u001b[39m\"\u001b[39m, \u001b[39mNone\u001b[39;00m):  \u001b[39m# AppEngine might not have  `.sock`\u001b[39;00m\n\u001b[1;32m-> 1040\u001b[0m     conn\u001b[39m.\u001b[39;49mconnect()\n\u001b[0;32m   1042\u001b[0m \u001b[39mif\u001b[39;00m \u001b[39mnot\u001b[39;00m conn\u001b[39m.\u001b[39mis_verified:\n",
      "File \u001b[1;32mc:\\Users\\carlo\\anaconda3\\lib\\site-packages\\urllib3\\connection.py:358\u001b[0m, in \u001b[0;36mHTTPSConnection.connect\u001b[1;34m(self)\u001b[0m\n\u001b[0;32m    356\u001b[0m \u001b[39mdef\u001b[39;00m \u001b[39mconnect\u001b[39m(\u001b[39mself\u001b[39m):\n\u001b[0;32m    357\u001b[0m     \u001b[39m# Add certificate verification\u001b[39;00m\n\u001b[1;32m--> 358\u001b[0m     \u001b[39mself\u001b[39m\u001b[39m.\u001b[39msock \u001b[39m=\u001b[39m conn \u001b[39m=\u001b[39m \u001b[39mself\u001b[39;49m\u001b[39m.\u001b[39;49m_new_conn()\n\u001b[0;32m    359\u001b[0m     hostname \u001b[39m=\u001b[39m \u001b[39mself\u001b[39m\u001b[39m.\u001b[39mhost\n",
      "File \u001b[1;32mc:\\Users\\carlo\\anaconda3\\lib\\site-packages\\urllib3\\connection.py:186\u001b[0m, in \u001b[0;36mHTTPConnection._new_conn\u001b[1;34m(self)\u001b[0m\n\u001b[0;32m    185\u001b[0m \u001b[39mexcept\u001b[39;00m SocketError \u001b[39mas\u001b[39;00m e:\n\u001b[1;32m--> 186\u001b[0m     \u001b[39mraise\u001b[39;00m NewConnectionError(\n\u001b[0;32m    187\u001b[0m         \u001b[39mself\u001b[39m, \u001b[39m\"\u001b[39m\u001b[39mFailed to establish a new connection: \u001b[39m\u001b[39m%s\u001b[39;00m\u001b[39m\"\u001b[39m \u001b[39m%\u001b[39m e\n\u001b[0;32m    188\u001b[0m     )\n\u001b[0;32m    190\u001b[0m \u001b[39mreturn\u001b[39;00m conn\n",
      "\u001b[1;31mNewConnectionError\u001b[0m: <urllib3.connection.HTTPSConnection object at 0x0000028B1CABA760>: Failed to establish a new connection: [WinError 10060] A connection attempt failed because the connected party did not properly respond after a period of time, or established connection failed because connected host has failed to respond",
      "\nDuring handling of the above exception, another exception occurred:\n",
      "\u001b[1;31mMaxRetryError\u001b[0m                             Traceback (most recent call last)",
      "File \u001b[1;32mc:\\Users\\carlo\\anaconda3\\lib\\site-packages\\requests\\adapters.py:440\u001b[0m, in \u001b[0;36mHTTPAdapter.send\u001b[1;34m(self, request, stream, timeout, verify, cert, proxies)\u001b[0m\n\u001b[0;32m    439\u001b[0m \u001b[39mif\u001b[39;00m \u001b[39mnot\u001b[39;00m chunked:\n\u001b[1;32m--> 440\u001b[0m     resp \u001b[39m=\u001b[39m conn\u001b[39m.\u001b[39;49murlopen(\n\u001b[0;32m    441\u001b[0m         method\u001b[39m=\u001b[39;49mrequest\u001b[39m.\u001b[39;49mmethod,\n\u001b[0;32m    442\u001b[0m         url\u001b[39m=\u001b[39;49murl,\n\u001b[0;32m    443\u001b[0m         body\u001b[39m=\u001b[39;49mrequest\u001b[39m.\u001b[39;49mbody,\n\u001b[0;32m    444\u001b[0m         headers\u001b[39m=\u001b[39;49mrequest\u001b[39m.\u001b[39;49mheaders,\n\u001b[0;32m    445\u001b[0m         redirect\u001b[39m=\u001b[39;49m\u001b[39mFalse\u001b[39;49;00m,\n\u001b[0;32m    446\u001b[0m         assert_same_host\u001b[39m=\u001b[39;49m\u001b[39mFalse\u001b[39;49;00m,\n\u001b[0;32m    447\u001b[0m         preload_content\u001b[39m=\u001b[39;49m\u001b[39mFalse\u001b[39;49;00m,\n\u001b[0;32m    448\u001b[0m         decode_content\u001b[39m=\u001b[39;49m\u001b[39mFalse\u001b[39;49;00m,\n\u001b[0;32m    449\u001b[0m         retries\u001b[39m=\u001b[39;49m\u001b[39mself\u001b[39;49m\u001b[39m.\u001b[39;49mmax_retries,\n\u001b[0;32m    450\u001b[0m         timeout\u001b[39m=\u001b[39;49mtimeout\n\u001b[0;32m    451\u001b[0m     )\n\u001b[0;32m    453\u001b[0m \u001b[39m# Send the request.\u001b[39;00m\n\u001b[0;32m    454\u001b[0m \u001b[39melse\u001b[39;00m:\n",
      "File \u001b[1;32mc:\\Users\\carlo\\anaconda3\\lib\\site-packages\\urllib3\\connectionpool.py:785\u001b[0m, in \u001b[0;36mHTTPConnectionPool.urlopen\u001b[1;34m(self, method, url, body, headers, retries, redirect, assert_same_host, timeout, pool_timeout, release_conn, chunked, body_pos, **response_kw)\u001b[0m\n\u001b[0;32m    783\u001b[0m     e \u001b[39m=\u001b[39m ProtocolError(\u001b[39m\"\u001b[39m\u001b[39mConnection aborted.\u001b[39m\u001b[39m\"\u001b[39m, e)\n\u001b[1;32m--> 785\u001b[0m retries \u001b[39m=\u001b[39m retries\u001b[39m.\u001b[39;49mincrement(\n\u001b[0;32m    786\u001b[0m     method, url, error\u001b[39m=\u001b[39;49me, _pool\u001b[39m=\u001b[39;49m\u001b[39mself\u001b[39;49m, _stacktrace\u001b[39m=\u001b[39;49msys\u001b[39m.\u001b[39;49mexc_info()[\u001b[39m2\u001b[39;49m]\n\u001b[0;32m    787\u001b[0m )\n\u001b[0;32m    788\u001b[0m retries\u001b[39m.\u001b[39msleep()\n",
      "File \u001b[1;32mc:\\Users\\carlo\\anaconda3\\lib\\site-packages\\urllib3\\util\\retry.py:592\u001b[0m, in \u001b[0;36mRetry.increment\u001b[1;34m(self, method, url, response, error, _pool, _stacktrace)\u001b[0m\n\u001b[0;32m    591\u001b[0m \u001b[39mif\u001b[39;00m new_retry\u001b[39m.\u001b[39mis_exhausted():\n\u001b[1;32m--> 592\u001b[0m     \u001b[39mraise\u001b[39;00m MaxRetryError(_pool, url, error \u001b[39mor\u001b[39;00m ResponseError(cause))\n\u001b[0;32m    594\u001b[0m log\u001b[39m.\u001b[39mdebug(\u001b[39m\"\u001b[39m\u001b[39mIncremented Retry for (url=\u001b[39m\u001b[39m'\u001b[39m\u001b[39m%s\u001b[39;00m\u001b[39m'\u001b[39m\u001b[39m): \u001b[39m\u001b[39m%r\u001b[39;00m\u001b[39m\"\u001b[39m, url, new_retry)\n",
      "\u001b[1;31mMaxRetryError\u001b[0m: HTTPSConnectionPool(host='api.foursquare.com', port=443): Max retries exceeded with url: /v3/places/search?query=Starbucks&ll=37.762681%2C-122.400909&limit=1 (Caused by NewConnectionError('<urllib3.connection.HTTPSConnection object at 0x0000028B1CABA760>: Failed to establish a new connection: [WinError 10060] A connection attempt failed because the connected party did not properly respond after a period of time, or established connection failed because connected host has failed to respond'))",
      "\nDuring handling of the above exception, another exception occurred:\n",
      "\u001b[1;31mConnectionError\u001b[0m                           Traceback (most recent call last)",
      "\u001b[1;32mc:\\Users\\carlo\\Ironhack\\Project-3\\output\\main.ipynb Cell 48\u001b[0m in \u001b[0;36m<cell line: 3>\u001b[1;34m()\u001b[0m\n\u001b[0;32m      <a href='vscode-notebook-cell:/c%3A/Users/carlo/Ironhack/Project-3/output/main.ipynb#Y103sZmlsZQ%3D%3D?line=1'>2</a>\u001b[0m starbucks\u001b[39m=\u001b[39m[]\n\u001b[0;32m      <a href='vscode-notebook-cell:/c%3A/Users/carlo/Ironhack/Project-3/output/main.ipynb#Y103sZmlsZQ%3D%3D?line=2'>3</a>\u001b[0m \u001b[39mfor\u001b[39;00m i \u001b[39min\u001b[39;00m \u001b[39mzip\u001b[39m(total_offices_SF[\u001b[39m\"\u001b[39m\u001b[39mlatitude\u001b[39m\u001b[39m\"\u001b[39m],total_offices_SF[\u001b[39m\"\u001b[39m\u001b[39mlongitude\u001b[39m\u001b[39m\"\u001b[39m]):\n\u001b[1;32m----> <a href='vscode-notebook-cell:/c%3A/Users/carlo/Ironhack/Project-3/output/main.ipynb#Y103sZmlsZQ%3D%3D?line=3'>4</a>\u001b[0m     starbucks\u001b[39m.\u001b[39mappend(foursquare_query(query,i[\u001b[39m0\u001b[39;49m],i[\u001b[39m1\u001b[39;49m]))\n\u001b[0;32m      <a href='vscode-notebook-cell:/c%3A/Users/carlo/Ironhack/Project-3/output/main.ipynb#Y103sZmlsZQ%3D%3D?line=4'>5</a>\u001b[0m total_offices_SF[\u001b[39m\"\u001b[39m\u001b[39mNearest Starbucks (m)\u001b[39m\u001b[39m\"\u001b[39m] \u001b[39m=\u001b[39m starbucks\n\u001b[0;32m      <a href='vscode-notebook-cell:/c%3A/Users/carlo/Ironhack/Project-3/output/main.ipynb#Y103sZmlsZQ%3D%3D?line=5'>6</a>\u001b[0m total_offices_SF\n",
      "\u001b[1;32mc:\\Users\\carlo\\Ironhack\\Project-3\\output\\main.ipynb Cell 48\u001b[0m in \u001b[0;36mfoursquare_query\u001b[1;34m(query, lat, lon)\u001b[0m\n\u001b[0;32m      <a href='vscode-notebook-cell:/c%3A/Users/carlo/Ironhack/Project-3/output/main.ipynb#Y103sZmlsZQ%3D%3D?line=2'>3</a>\u001b[0m url \u001b[39m=\u001b[39m \u001b[39mf\u001b[39m\u001b[39m\"\u001b[39m\u001b[39mhttps://api.foursquare.com/v3/places/search?query=\u001b[39m\u001b[39m{\u001b[39;00mquery\u001b[39m}\u001b[39;00m\u001b[39m&ll=\u001b[39m\u001b[39m{\u001b[39;00mlat\u001b[39m}\u001b[39;00m\u001b[39m%2C\u001b[39m\u001b[39m{\u001b[39;00mlon\u001b[39m}\u001b[39;00m\u001b[39m&limit=1\u001b[39m\u001b[39m\"\u001b[39m\n\u001b[0;32m      <a href='vscode-notebook-cell:/c%3A/Users/carlo/Ironhack/Project-3/output/main.ipynb#Y103sZmlsZQ%3D%3D?line=4'>5</a>\u001b[0m headers \u001b[39m=\u001b[39m {\u001b[39m\"\u001b[39m\u001b[39maccept\u001b[39m\u001b[39m\"\u001b[39m: \u001b[39m\"\u001b[39m\u001b[39mapplication/json\u001b[39m\u001b[39m\"\u001b[39m, \u001b[39m\"\u001b[39m\u001b[39mAuthorization\u001b[39m\u001b[39m\"\u001b[39m: token_fsq}\n\u001b[1;32m----> <a href='vscode-notebook-cell:/c%3A/Users/carlo/Ironhack/Project-3/output/main.ipynb#Y103sZmlsZQ%3D%3D?line=5'>6</a>\u001b[0m response \u001b[39m=\u001b[39m requests\u001b[39m.\u001b[39;49mget(url, headers\u001b[39m=\u001b[39;49mheaders)\u001b[39m.\u001b[39mjson()\n\u001b[0;32m      <a href='vscode-notebook-cell:/c%3A/Users/carlo/Ironhack/Project-3/output/main.ipynb#Y103sZmlsZQ%3D%3D?line=7'>8</a>\u001b[0m \u001b[39mlist\u001b[39m \u001b[39m=\u001b[39m []\n\u001b[0;32m      <a href='vscode-notebook-cell:/c%3A/Users/carlo/Ironhack/Project-3/output/main.ipynb#Y103sZmlsZQ%3D%3D?line=8'>9</a>\u001b[0m \u001b[39mfor\u001b[39;00m i \u001b[39min\u001b[39;00m response[\u001b[39m\"\u001b[39m\u001b[39mresults\u001b[39m\u001b[39m\"\u001b[39m]:\n",
      "File \u001b[1;32mc:\\Users\\carlo\\anaconda3\\lib\\site-packages\\requests\\api.py:75\u001b[0m, in \u001b[0;36mget\u001b[1;34m(url, params, **kwargs)\u001b[0m\n\u001b[0;32m     64\u001b[0m \u001b[39mdef\u001b[39;00m \u001b[39mget\u001b[39m(url, params\u001b[39m=\u001b[39m\u001b[39mNone\u001b[39;00m, \u001b[39m*\u001b[39m\u001b[39m*\u001b[39mkwargs):\n\u001b[0;32m     65\u001b[0m     \u001b[39mr\u001b[39m\u001b[39m\"\"\"Sends a GET request.\u001b[39;00m\n\u001b[0;32m     66\u001b[0m \n\u001b[0;32m     67\u001b[0m \u001b[39m    :param url: URL for the new :class:`Request` object.\u001b[39;00m\n\u001b[1;32m   (...)\u001b[0m\n\u001b[0;32m     72\u001b[0m \u001b[39m    :rtype: requests.Response\u001b[39;00m\n\u001b[0;32m     73\u001b[0m \u001b[39m    \"\"\"\u001b[39;00m\n\u001b[1;32m---> 75\u001b[0m     \u001b[39mreturn\u001b[39;00m request(\u001b[39m'\u001b[39m\u001b[39mget\u001b[39m\u001b[39m'\u001b[39m, url, params\u001b[39m=\u001b[39mparams, \u001b[39m*\u001b[39m\u001b[39m*\u001b[39mkwargs)\n",
      "File \u001b[1;32mc:\\Users\\carlo\\anaconda3\\lib\\site-packages\\requests\\api.py:61\u001b[0m, in \u001b[0;36mrequest\u001b[1;34m(method, url, **kwargs)\u001b[0m\n\u001b[0;32m     57\u001b[0m \u001b[39m# By using the 'with' statement we are sure the session is closed, thus we\u001b[39;00m\n\u001b[0;32m     58\u001b[0m \u001b[39m# avoid leaving sockets open which can trigger a ResourceWarning in some\u001b[39;00m\n\u001b[0;32m     59\u001b[0m \u001b[39m# cases, and look like a memory leak in others.\u001b[39;00m\n\u001b[0;32m     60\u001b[0m \u001b[39mwith\u001b[39;00m sessions\u001b[39m.\u001b[39mSession() \u001b[39mas\u001b[39;00m session:\n\u001b[1;32m---> 61\u001b[0m     \u001b[39mreturn\u001b[39;00m session\u001b[39m.\u001b[39mrequest(method\u001b[39m=\u001b[39mmethod, url\u001b[39m=\u001b[39murl, \u001b[39m*\u001b[39m\u001b[39m*\u001b[39mkwargs)\n",
      "File \u001b[1;32mc:\\Users\\carlo\\anaconda3\\lib\\site-packages\\requests\\sessions.py:529\u001b[0m, in \u001b[0;36mSession.request\u001b[1;34m(self, method, url, params, data, headers, cookies, files, auth, timeout, allow_redirects, proxies, hooks, stream, verify, cert, json)\u001b[0m\n\u001b[0;32m    524\u001b[0m send_kwargs \u001b[39m=\u001b[39m {\n\u001b[0;32m    525\u001b[0m     \u001b[39m'\u001b[39m\u001b[39mtimeout\u001b[39m\u001b[39m'\u001b[39m: timeout,\n\u001b[0;32m    526\u001b[0m     \u001b[39m'\u001b[39m\u001b[39mallow_redirects\u001b[39m\u001b[39m'\u001b[39m: allow_redirects,\n\u001b[0;32m    527\u001b[0m }\n\u001b[0;32m    528\u001b[0m send_kwargs\u001b[39m.\u001b[39mupdate(settings)\n\u001b[1;32m--> 529\u001b[0m resp \u001b[39m=\u001b[39m \u001b[39mself\u001b[39m\u001b[39m.\u001b[39msend(prep, \u001b[39m*\u001b[39m\u001b[39m*\u001b[39msend_kwargs)\n\u001b[0;32m    531\u001b[0m \u001b[39mreturn\u001b[39;00m resp\n",
      "File \u001b[1;32mc:\\Users\\carlo\\anaconda3\\lib\\site-packages\\requests\\sessions.py:645\u001b[0m, in \u001b[0;36mSession.send\u001b[1;34m(self, request, **kwargs)\u001b[0m\n\u001b[0;32m    642\u001b[0m start \u001b[39m=\u001b[39m preferred_clock()\n\u001b[0;32m    644\u001b[0m \u001b[39m# Send the request\u001b[39;00m\n\u001b[1;32m--> 645\u001b[0m r \u001b[39m=\u001b[39m adapter\u001b[39m.\u001b[39msend(request, \u001b[39m*\u001b[39m\u001b[39m*\u001b[39mkwargs)\n\u001b[0;32m    647\u001b[0m \u001b[39m# Total elapsed time of the request (approximately)\u001b[39;00m\n\u001b[0;32m    648\u001b[0m elapsed \u001b[39m=\u001b[39m preferred_clock() \u001b[39m-\u001b[39m start\n",
      "File \u001b[1;32mc:\\Users\\carlo\\anaconda3\\lib\\site-packages\\requests\\adapters.py:519\u001b[0m, in \u001b[0;36mHTTPAdapter.send\u001b[1;34m(self, request, stream, timeout, verify, cert, proxies)\u001b[0m\n\u001b[0;32m    515\u001b[0m     \u001b[39mif\u001b[39;00m \u001b[39misinstance\u001b[39m(e\u001b[39m.\u001b[39mreason, _SSLError):\n\u001b[0;32m    516\u001b[0m         \u001b[39m# This branch is for urllib3 v1.22 and later.\u001b[39;00m\n\u001b[0;32m    517\u001b[0m         \u001b[39mraise\u001b[39;00m SSLError(e, request\u001b[39m=\u001b[39mrequest)\n\u001b[1;32m--> 519\u001b[0m     \u001b[39mraise\u001b[39;00m \u001b[39mConnectionError\u001b[39;00m(e, request\u001b[39m=\u001b[39mrequest)\n\u001b[0;32m    521\u001b[0m \u001b[39mexcept\u001b[39;00m ClosedPoolError \u001b[39mas\u001b[39;00m e:\n\u001b[0;32m    522\u001b[0m     \u001b[39mraise\u001b[39;00m \u001b[39mConnectionError\u001b[39;00m(e, request\u001b[39m=\u001b[39mrequest)\n",
      "\u001b[1;31mConnectionError\u001b[0m: HTTPSConnectionPool(host='api.foursquare.com', port=443): Max retries exceeded with url: /v3/places/search?query=Starbucks&ll=37.762681%2C-122.400909&limit=1 (Caused by NewConnectionError('<urllib3.connection.HTTPSConnection object at 0x0000028B1CABA760>: Failed to establish a new connection: [WinError 10060] A connection attempt failed because the connected party did not properly respond after a period of time, or established connection failed because connected host has failed to respond'))"
     ]
    }
   ],
   "source": [
    "query = 'Starbucks' #Starbucks\n",
    "starbucks=[]\n",
    "for i in zip(total_offices_SF[\"latitude\"],total_offices_SF[\"longitude\"]):\n",
    "    starbucks.append(foursquare_query(query,i[0],i[1]))\n",
    "total_offices_SF[\"Nearest Starbucks (m)\"] = starbucks\n",
    "total_offices_SF"
   ]
  },
  {
   "cell_type": "code",
   "execution_count": null,
   "metadata": {},
   "outputs": [],
   "source": [
    "total_offices_SF['nearest_Starbucks']= "
   ]
  },
  {
   "cell_type": "code",
   "execution_count": null,
   "metadata": {},
   "outputs": [],
   "source": [
    "def foursquare_cat (category, lat, lon):\n",
    "\n",
    "    url = f\"https://api.foursquare.com/v3/places/search?ll={lat}%2C{lon}&categories={category}&limit=1\"\n",
    "\n",
    "    headers = {\"accept\": \"application/json\", \"Authorization\": token_fsq}\n",
    "    response = requests.get(url, headers=headers).json()\n",
    "\n",
    "    list = []\n",
    "    for i in response[\"results\"]:\n",
    "\n",
    "        lat = i[\"geocodes\"][\"main\"][\"latitude\"]\n",
    "        lon = i[\"geocodes\"][\"main\"][\"longitude\"]\n",
    "        distance = i[\"distance\"]\n",
    "\n",
    "        list.append(distance)\n",
    "    \n",
    "    return list"
   ]
  },
  {
   "cell_type": "code",
   "execution_count": null,
   "metadata": {},
   "outputs": [
    {
     "name": "stderr",
     "output_type": "stream",
     "text": [
      "C:\\Users\\carlo\\AppData\\Local\\Temp\\ipykernel_10884\\3662667142.py:5: SettingWithCopyWarning: \n",
      "A value is trying to be set on a copy of a slice from a DataFrame.\n",
      "Try using .loc[row_indexer,col_indexer] = value instead\n",
      "\n",
      "See the caveats in the documentation: https://pandas.pydata.org/pandas-docs/stable/user_guide/indexing.html#returning-a-view-versus-a-copy\n",
      "  total_offices_SF[\"nearest_park\"] = park\n"
     ]
    },
    {
     "data": {
      "text/html": [
       "<div>\n",
       "<style scoped>\n",
       "    .dataframe tbody tr th:only-of-type {\n",
       "        vertical-align: middle;\n",
       "    }\n",
       "\n",
       "    .dataframe tbody tr th {\n",
       "        vertical-align: top;\n",
       "    }\n",
       "\n",
       "    .dataframe thead th {\n",
       "        text-align: right;\n",
       "    }\n",
       "</style>\n",
       "<table border=\"1\" class=\"dataframe\">\n",
       "  <thead>\n",
       "    <tr style=\"text-align: right;\">\n",
       "      <th></th>\n",
       "      <th>name</th>\n",
       "      <th>country_code</th>\n",
       "      <th>city</th>\n",
       "      <th>state_code</th>\n",
       "      <th>longitude</th>\n",
       "      <th>latitude</th>\n",
       "      <th>geojson</th>\n",
       "      <th>nearest_park</th>\n",
       "    </tr>\n",
       "  </thead>\n",
       "  <tbody>\n",
       "    <tr>\n",
       "      <th>4</th>\n",
       "      <td>Digg</td>\n",
       "      <td>USA</td>\n",
       "      <td>San Francisco</td>\n",
       "      <td>CA</td>\n",
       "      <td>-122.394523</td>\n",
       "      <td>37.764726</td>\n",
       "      <td>{'type': 'Point', 'coordinates': [-122.394523,...</td>\n",
       "      <td>[37.759393, -122.40382]</td>\n",
       "    </tr>\n",
       "    <tr>\n",
       "      <th>12</th>\n",
       "      <td>Twitter</td>\n",
       "      <td>USA</td>\n",
       "      <td>San Francisco</td>\n",
       "      <td>CA</td>\n",
       "      <td>-122.416924</td>\n",
       "      <td>37.776805</td>\n",
       "      <td>{'type': 'Point', 'coordinates': [-122.4169244...</td>\n",
       "      <td>[37.792234, -122.41228]</td>\n",
       "    </tr>\n",
       "    <tr>\n",
       "      <th>13</th>\n",
       "      <td>StumbleUpon</td>\n",
       "      <td>USA</td>\n",
       "      <td>San Francisco</td>\n",
       "      <td>CA</td>\n",
       "      <td>-122.419204</td>\n",
       "      <td>37.775196</td>\n",
       "      <td>{'type': 'Point', 'coordinates': [-122.419204,...</td>\n",
       "      <td>[37.792234, -122.41228]</td>\n",
       "    </tr>\n",
       "    <tr>\n",
       "      <th>15</th>\n",
       "      <td>Scribd</td>\n",
       "      <td>USA</td>\n",
       "      <td>San Francisco</td>\n",
       "      <td>CA</td>\n",
       "      <td>-122.404052</td>\n",
       "      <td>37.789634</td>\n",
       "      <td>{'type': 'Point', 'coordinates': [-122.404052,...</td>\n",
       "      <td>[37.792234, -122.41228]</td>\n",
       "    </tr>\n",
       "    <tr>\n",
       "      <th>28</th>\n",
       "      <td>Powerset</td>\n",
       "      <td>USA</td>\n",
       "      <td>San Francisco</td>\n",
       "      <td>CA</td>\n",
       "      <td>-122.395289</td>\n",
       "      <td>37.778613</td>\n",
       "      <td>{'type': 'Point', 'coordinates': [-122.395289,...</td>\n",
       "      <td>[37.784655, -122.402441]</td>\n",
       "    </tr>\n",
       "    <tr>\n",
       "      <th>...</th>\n",
       "      <td>...</td>\n",
       "      <td>...</td>\n",
       "      <td>...</td>\n",
       "      <td>...</td>\n",
       "      <td>...</td>\n",
       "      <td>...</td>\n",
       "      <td>...</td>\n",
       "      <td>...</td>\n",
       "    </tr>\n",
       "    <tr>\n",
       "      <th>10606</th>\n",
       "      <td>Danoo</td>\n",
       "      <td>USA</td>\n",
       "      <td>San Francisco</td>\n",
       "      <td>CA</td>\n",
       "      <td>-122.400863</td>\n",
       "      <td>37.788852</td>\n",
       "      <td>{'type': 'Point', 'coordinates': [-122.4008634...</td>\n",
       "      <td>[37.784655, -122.402441]</td>\n",
       "    </tr>\n",
       "    <tr>\n",
       "      <th>10611</th>\n",
       "      <td>UCWeb</td>\n",
       "      <td>USA</td>\n",
       "      <td>San Francisco</td>\n",
       "      <td>CA</td>\n",
       "      <td>-122.401322</td>\n",
       "      <td>37.781476</td>\n",
       "      <td>{'type': 'Point', 'coordinates': [-122.4013217...</td>\n",
       "      <td>[37.784655, -122.402441]</td>\n",
       "    </tr>\n",
       "    <tr>\n",
       "      <th>10665</th>\n",
       "      <td>Grassroots</td>\n",
       "      <td>USA</td>\n",
       "      <td>San Francisco</td>\n",
       "      <td>CA</td>\n",
       "      <td>-122.401850</td>\n",
       "      <td>37.790346</td>\n",
       "      <td>{'type': 'Point', 'coordinates': [-122.40185, ...</td>\n",
       "      <td>[37.792234, -122.41228]</td>\n",
       "    </tr>\n",
       "    <tr>\n",
       "      <th>10709</th>\n",
       "      <td>DJ Nitrogen</td>\n",
       "      <td>USA</td>\n",
       "      <td>San Francisco</td>\n",
       "      <td>CA</td>\n",
       "      <td>-122.449408</td>\n",
       "      <td>37.784174</td>\n",
       "      <td>{'type': 'Point', 'coordinates': [-122.4494082...</td>\n",
       "      <td>[37.790161, -122.437677]</td>\n",
       "    </tr>\n",
       "    <tr>\n",
       "      <th>10746</th>\n",
       "      <td>Embarcadero Technologies</td>\n",
       "      <td>USA</td>\n",
       "      <td>San Francisco</td>\n",
       "      <td>CA</td>\n",
       "      <td>-122.398062</td>\n",
       "      <td>37.793949</td>\n",
       "      <td>{'type': 'Point', 'coordinates': [-122.398062,...</td>\n",
       "      <td>[37.792234, -122.41228]</td>\n",
       "    </tr>\n",
       "  </tbody>\n",
       "</table>\n",
       "<p>659 rows × 8 columns</p>\n",
       "</div>"
      ],
      "text/plain": [
       "                           name country_code           city state_code  \\\n",
       "4                          Digg          USA  San Francisco         CA   \n",
       "12                      Twitter          USA  San Francisco         CA   \n",
       "13                  StumbleUpon          USA  San Francisco         CA   \n",
       "15                       Scribd          USA  San Francisco         CA   \n",
       "28                     Powerset          USA  San Francisco         CA   \n",
       "...                         ...          ...            ...        ...   \n",
       "10606                     Danoo          USA  San Francisco         CA   \n",
       "10611                     UCWeb          USA  San Francisco         CA   \n",
       "10665                Grassroots          USA  San Francisco         CA   \n",
       "10709               DJ Nitrogen          USA  San Francisco         CA   \n",
       "10746  Embarcadero Technologies          USA  San Francisco         CA   \n",
       "\n",
       "        longitude   latitude  \\\n",
       "4     -122.394523  37.764726   \n",
       "12    -122.416924  37.776805   \n",
       "13    -122.419204  37.775196   \n",
       "15    -122.404052  37.789634   \n",
       "28    -122.395289  37.778613   \n",
       "...           ...        ...   \n",
       "10606 -122.400863  37.788852   \n",
       "10611 -122.401322  37.781476   \n",
       "10665 -122.401850  37.790346   \n",
       "10709 -122.449408  37.784174   \n",
       "10746 -122.398062  37.793949   \n",
       "\n",
       "                                                 geojson  \\\n",
       "4      {'type': 'Point', 'coordinates': [-122.394523,...   \n",
       "12     {'type': 'Point', 'coordinates': [-122.4169244...   \n",
       "13     {'type': 'Point', 'coordinates': [-122.419204,...   \n",
       "15     {'type': 'Point', 'coordinates': [-122.404052,...   \n",
       "28     {'type': 'Point', 'coordinates': [-122.395289,...   \n",
       "...                                                  ...   \n",
       "10606  {'type': 'Point', 'coordinates': [-122.4008634...   \n",
       "10611  {'type': 'Point', 'coordinates': [-122.4013217...   \n",
       "10665  {'type': 'Point', 'coordinates': [-122.40185, ...   \n",
       "10709  {'type': 'Point', 'coordinates': [-122.4494082...   \n",
       "10746  {'type': 'Point', 'coordinates': [-122.398062,...   \n",
       "\n",
       "                   nearest_park  \n",
       "4       [37.759393, -122.40382]  \n",
       "12      [37.792234, -122.41228]  \n",
       "13      [37.792234, -122.41228]  \n",
       "15      [37.792234, -122.41228]  \n",
       "28     [37.784655, -122.402441]  \n",
       "...                         ...  \n",
       "10606  [37.784655, -122.402441]  \n",
       "10611  [37.784655, -122.402441]  \n",
       "10665   [37.792234, -122.41228]  \n",
       "10709  [37.790161, -122.437677]  \n",
       "10746   [37.792234, -122.41228]  \n",
       "\n",
       "[659 rows x 8 columns]"
      ]
     },
     "execution_count": 58,
     "metadata": {},
     "output_type": "execute_result"
    }
   ],
   "source": [
    "category = 16032 #Outdoor Parks\n",
    "park=[]\n",
    "for i in zip(total_offices_SF[\"latitude\"],total_offices_SF[\"longitude\"]):\n",
    "    park.append(foursquare_cat(category,i[0],i[1]))\n",
    "total_offices_SF[\"nearest_park\"] = park\n",
    "total_offices_SF"
   ]
  },
  {
   "cell_type": "code",
   "execution_count": null,
   "metadata": {},
   "outputs": [
    {
     "ename": "KeyError",
     "evalue": "'results'",
     "output_type": "error",
     "traceback": [
      "\u001b[1;31m---------------------------------------------------------------------------\u001b[0m",
      "\u001b[1;31mKeyError\u001b[0m                                  Traceback (most recent call last)",
      "\u001b[1;32mc:\\Users\\carlo\\Ironhack\\Project-3\\output\\main.ipynb Cell 43\u001b[0m in \u001b[0;36m<cell line: 1>\u001b[1;34m()\u001b[0m\n\u001b[1;32m----> <a href='vscode-notebook-cell:/c%3A/Users/carlo/Ironhack/Project-3/output/main.ipynb#X60sZmlsZQ%3D%3D?line=0'>1</a>\u001b[0m Starbucks_loc \u001b[39m=\u001b[39m foursquare_query(\u001b[39m'\u001b[39;49m\u001b[39mStarbucks\u001b[39;49m\u001b[39m'\u001b[39;49m, \u001b[39m-\u001b[39;49m\u001b[39m122.4537724\u001b[39;49m, \u001b[39m37.76961\u001b[39;49m)\n",
      "\u001b[1;32mc:\\Users\\carlo\\Ironhack\\Project-3\\output\\main.ipynb Cell 43\u001b[0m in \u001b[0;36mfoursquare_query\u001b[1;34m(query, lat, lon)\u001b[0m\n\u001b[0;32m      <a href='vscode-notebook-cell:/c%3A/Users/carlo/Ironhack/Project-3/output/main.ipynb#X60sZmlsZQ%3D%3D?line=5'>6</a>\u001b[0m response \u001b[39m=\u001b[39m requests\u001b[39m.\u001b[39mget(url, headers\u001b[39m=\u001b[39mheaders)\u001b[39m.\u001b[39mjson()\n\u001b[0;32m      <a href='vscode-notebook-cell:/c%3A/Users/carlo/Ironhack/Project-3/output/main.ipynb#X60sZmlsZQ%3D%3D?line=7'>8</a>\u001b[0m \u001b[39mlist\u001b[39m \u001b[39m=\u001b[39m []\n\u001b[1;32m----> <a href='vscode-notebook-cell:/c%3A/Users/carlo/Ironhack/Project-3/output/main.ipynb#X60sZmlsZQ%3D%3D?line=8'>9</a>\u001b[0m \u001b[39mfor\u001b[39;00m i \u001b[39min\u001b[39;00m response[\u001b[39m\"\u001b[39;49m\u001b[39mresults\u001b[39;49m\u001b[39m\"\u001b[39;49m]:\n\u001b[0;32m     <a href='vscode-notebook-cell:/c%3A/Users/carlo/Ironhack/Project-3/output/main.ipynb#X60sZmlsZQ%3D%3D?line=10'>11</a>\u001b[0m     lat \u001b[39m=\u001b[39m i[\u001b[39m\"\u001b[39m\u001b[39mgeocodes\u001b[39m\u001b[39m\"\u001b[39m][\u001b[39m\"\u001b[39m\u001b[39mmain\u001b[39m\u001b[39m\"\u001b[39m][\u001b[39m\"\u001b[39m\u001b[39mlatitude\u001b[39m\u001b[39m\"\u001b[39m]\n\u001b[0;32m     <a href='vscode-notebook-cell:/c%3A/Users/carlo/Ironhack/Project-3/output/main.ipynb#X60sZmlsZQ%3D%3D?line=11'>12</a>\u001b[0m     lon \u001b[39m=\u001b[39m i[\u001b[39m\"\u001b[39m\u001b[39mgeocodes\u001b[39m\u001b[39m\"\u001b[39m][\u001b[39m\"\u001b[39m\u001b[39mmain\u001b[39m\u001b[39m\"\u001b[39m][\u001b[39m\"\u001b[39m\u001b[39mlongitude\u001b[39m\u001b[39m\"\u001b[39m]\n",
      "\u001b[1;31mKeyError\u001b[0m: 'results'"
     ]
    }
   ],
   "source": [
    "#Starbucks_loc = foursquare_query('Starbucks', -122.4537724, 37.76961)"
   ]
  },
  {
   "cell_type": "code",
   "execution_count": null,
   "metadata": {},
   "outputs": [
    {
     "data": {
      "text/plain": [
       "(50, 5)"
      ]
     },
     "execution_count": 39,
     "metadata": {},
     "output_type": "execute_result"
    }
   ],
   "source": [
    "#gdf_starbucks = gpd.GeoDataFrame(df_starbucks, geometry=gpd.points_from_xy(df_starbucks[\"lon\"], df_starbucks[\"lat\"]))\n",
    "#gdf_starbucks.shape"
   ]
  },
  {
   "cell_type": "markdown",
   "metadata": {},
   "source": [
    "#Scraping\n",
    "page_design = requests.get('https://www.dexigner.com/directory/loc/Singapore/Firms')\n",
    "soup_design = BeautifulSoup(page_design.content, 'html.parser')\n",
    "title2 = soup_design.title.text # Get page title \n",
    "title2\n",
    "​\n",
    "design_companies = [c.getText().replace(\"h3\", \"\").replace(\">\", \"\").strip() for c in soup_design.find_all(\"h3\")]\n",
    "design_companies"
   ]
  }
 ],
 "metadata": {
  "kernelspec": {
   "display_name": "Python 3.9.12 ('base')",
   "language": "python",
   "name": "python3"
  },
  "language_info": {
   "codemirror_mode": {
    "name": "ipython",
    "version": 3
   },
   "file_extension": ".py",
   "mimetype": "text/x-python",
   "name": "python",
   "nbconvert_exporter": "python",
   "pygments_lexer": "ipython3",
   "version": "3.9.12"
  },
  "orig_nbformat": 4,
  "vscode": {
   "interpreter": {
    "hash": "8e76f8642360a3358ab06c318ab18c1161224eb3836609d5c16edea6f6e43dba"
   }
  }
 },
 "nbformat": 4,
 "nbformat_minor": 2
}
